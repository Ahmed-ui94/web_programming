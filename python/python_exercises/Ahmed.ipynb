{
 "cells": [
  {
   "cell_type": "code",
   "execution_count": 1,
   "metadata": {},
   "outputs": [
    {
     "name": "stdout",
     "output_type": "stream",
     "text": [
      "{'Age': 25, 'city': 'new york'}\n"
     ]
    }
   ],
   "source": [
    "sample_dict = {\n",
    "    'name' : 'Kelly',\n",
    "    'Age' : 25,\n",
    "    'salary' : 8000,\n",
    "    'city' : 'new york'\n",
    "}\n",
    "\n",
    "keys_to_added = ['name', 'salary']\n",
    "for key2 in list(sample_dict):\n",
    "    if key2 in keys_to_added:\n",
    "        del sample_dict[key2]\n",
    "\n",
    "print(sample_dict)"
   ]
  },
  {
   "cell_type": "code",
   "execution_count": 12,
   "metadata": {},
   "outputs": [
    {
     "name": "stdout",
     "output_type": "stream",
     "text": [
      "3: a\n",
      "4: b\n",
      "5: c\n"
     ]
    }
   ],
   "source": [
    "def myenumerate(iterable, number = 0):\n",
    "    \"\"\"a function the bahaves like enumerate function or class\"\"\"\n",
    "    for i in iterable:\n",
    "        yield (number, i)\n",
    "        number += 1\n",
    "\n",
    "for i, j in myenumerate('abc', 1):\n",
    "    print(f'{i}: {j}')"
   ]
  },
  {
   "cell_type": "code",
   "execution_count": 15,
   "metadata": {},
   "outputs": [
    {
     "name": "stdout",
     "output_type": "stream",
     "text": [
      "['a', 'b', 'c', 'a', 'b']\n"
     ]
    }
   ],
   "source": [
    "class CircleIterator():\n",
    "    def __init__(self, data, max_times) -> None:\n",
    "        self.data = data\n",
    "        self.max_times = max_times\n",
    "        self.index = 0\n",
    "\n",
    "    def __next__(self):\n",
    "        if self.index >= self.max_times:\n",
    "            raise StopIteration\n",
    "        value = self.data[self.index % len(self.data)]\n",
    "        self.index += 1\n",
    "\n",
    "        return value\n",
    "\n",
    "\n",
    "class Circle():\n",
    "    def __init__(self, data, max_times) -> None:\n",
    "        self.data = data\n",
    "        self.max_times = max_times\n",
    "\n",
    "\n",
    "    def __iter__(self):\n",
    "        return CircleIterator(self.data, self.max_times)\n",
    "\n",
    "\n",
    "c = Circle(\"abc\", 5)\n",
    "print(list(c))"
   ]
  },
  {
   "cell_type": "code",
   "execution_count": 22,
   "metadata": {},
   "outputs": [
    {
     "name": "stdout",
     "output_type": "stream",
     "text": [
      "['a', 'b', 'c', 'a', 'b']\n"
     ]
    }
   ],
   "source": [
    "class CircleIterator():\n",
    "    def __init__(self, data, max_times) -> None:\n",
    "        self.data = data\n",
    "        self.max_times = max_times\n",
    "        self.index = 0\n",
    "\n",
    "    def __next__(self):\n",
    "        if self.index >= self.max_times:\n",
    "            raise StopIteration\n",
    "        value = self.data[self.index % len(self.data)]\n",
    "        self.index += 1\n",
    "\n",
    "        return value\n",
    "\n",
    "\n",
    "class Circle(CircleIterator):\n",
    "    def __init__(self, data, max_times) -> None:\n",
    "        super().__init__(data, max_times)\n",
    "        self.returns = [self.data, self.max_times]\n",
    "    \n",
    "\n",
    "    def __iter__(self):\n",
    "        return self\n",
    "\n",
    "\n",
    "    \n",
    "c = Circle(\"abc\", 5)\n",
    "print(list(c))"
   ]
  },
  {
   "cell_type": "code",
   "execution_count": 26,
   "metadata": {},
   "outputs": [
    {
     "data": {
      "text/plain": [
       "['a', 'b', 'c', 'a']"
      ]
     },
     "execution_count": 26,
     "metadata": {},
     "output_type": "execute_result"
    }
   ],
   "source": [
    "def Circle(iterable, max_times):\n",
    "    number = 0\n",
    "    \n",
    "    for i in range(max_times):\n",
    "        yield iterable[number % len(iterable)]\n",
    "        number += 1\n",
    "\n",
    "c = Circle(\"abc\", 4)\n",
    "list(c)"
   ]
  },
  {
   "cell_type": "code",
   "execution_count": 30,
   "metadata": {},
   "outputs": [
    {
     "data": {
      "text/plain": [
       "[1, 2, 3, 4, 5, 6, 7, 8, 9]"
      ]
     },
     "execution_count": 30,
     "metadata": {},
     "output_type": "execute_result"
    }
   ],
   "source": [
    "class MyRange:\n",
    "    def __init__(self, start, stop) -> None:\n",
    "        self.start = start\n",
    "        self.stop = stop\n",
    "\n",
    "    def __iter__(self):\n",
    "        return self\n",
    "\n",
    "\n",
    "    def __next__(self):\n",
    "        if self.start >= self.stop:\n",
    "            raise StopIteration\n",
    "        \n",
    "        value = self.start\n",
    "        self.start += 1\n",
    "        return value\n",
    "\n",
    "\n",
    "\n",
    "range1 = MyRange(1, 10)\n",
    "list(range1)"
   ]
  },
  {
   "cell_type": "code",
   "execution_count": null,
   "metadata": {},
   "outputs": [],
   "source": [
    "import pathlib \n",
    "\n",
    "def file_generator(directory):\n",
    "    p = pathlib.Path(directory)\n",
    "\n",
    "    for file_number, file in enumerate(p.iterdir(), 1):\n",
    "        for line_number, line in enumerate(open(file), 1):\n",
    "            yield (file.name, file_number, line_number, line.strip())\n",
    "\n",
    "path = file_generator(\"/Users/ahmedabukar/Desktop/productivity_files/python/python_exercises/archive\")\n",
    "for line in path:\n",
    "    print(line)"
   ]
  },
  {
   "cell_type": "code",
   "execution_count": null,
   "metadata": {},
   "outputs": [],
   "source": [
    "import pathlib \n",
    "\n",
    "def file_generator(directory):\n",
    "    p = pathlib.Path(directory)\n",
    "\n",
    "    for file_number, file in enumerate(p.iterdir(), 1):\n",
    "        for line_number, line in enumerate(open(file), 1):\n",
    "            yield (file.name, file_number, line_number, line.strip())\n",
    "\n",
    "path = file_generator(\"/Users/ahmedabukar/Desktop/productivity_files/python/python_exercises/archive\")\n",
    "for line in path:\n",
    "    print(line)"
   ]
  },
  {
   "cell_type": "code",
   "execution_count": 43,
   "metadata": {},
   "outputs": [
    {
     "name": "stdout",
     "output_type": "stream",
     "text": [
      "(5921.799387359, 'a')\n",
      "(5921.799890144, 'l')\n",
      "(5921.799922905, ';')\n",
      "(5921.799947484, 'a')\n",
      "(5921.799969641, ';')\n",
      "(5921.799992973, 'a')\n"
     ]
    }
   ],
   "source": [
    "import time\n",
    "\n",
    "\n",
    "def elapsed_since(iterable):\n",
    "    for i in iterable:\n",
    "        yield (time.perf_counter(), i)\n",
    "\n",
    "    \n",
    "\n",
    "for i in elapsed_since(\"al;a;a\"):\n",
    "    print(i)"
   ]
  },
  {
   "cell_type": "code",
   "execution_count": 53,
   "metadata": {},
   "outputs": [
    {
     "data": {
      "text/plain": [
       "['a', 'b', 'c', 1, 2, 3, 'a', 'b']"
      ]
     },
     "execution_count": 53,
     "metadata": {},
     "output_type": "execute_result"
    }
   ],
   "source": [
    "def chain(*iterables):\n",
    "    for iter in iterables:\n",
    "        for i in iter:\n",
    "            yield i\n",
    "\n",
    "\n",
    "\n",
    "list(chain('abc', [1,2,3], {'a':1, 'b':2}))"
   ]
  },
  {
   "cell_type": "code",
   "execution_count": 65,
   "metadata": {},
   "outputs": [
    {
     "data": {
      "text/plain": [
       "[('a', 10), ('b', 20), ('c', 30)]"
      ]
     },
     "execution_count": 65,
     "metadata": {},
     "output_type": "execute_result"
    }
   ],
   "source": [
    "def myzip(*iterables):\n",
    "    num = 0\n",
    "    for iter in iterables[0]:\n",
    "        n = num\n",
    "        num += 1\n",
    "        yield iterables[0][n], iterables[1][n]\n",
    "        \n",
    "\n",
    "\n",
    "list(myzip('abc', [10, 20, 30]))"
   ]
  },
  {
   "cell_type": "code",
   "execution_count": 72,
   "metadata": {},
   "outputs": [
    {
     "name": "stdout",
     "output_type": "stream",
     "text": [
      "a\n",
      "b\n",
      "a\n",
      "s\n",
      "n\n",
      "c\n",
      "z\n"
     ]
    }
   ],
   "source": [
    "# implementing using generator function\n",
    "def tester_generator(iterable, func):\n",
    "    for i in iterable:\n",
    "        if func(i):\n",
    "            yield i\n",
    "\n",
    "# using generator expression to implement the task\n",
    "def generator_expression(iterable, func):\n",
    "    return (i for i in iterable if func(i))\n",
    "\n",
    "def func(n):\n",
    "    if n.isalpha():\n",
    "        return n\n",
    "    else:\n",
    "        return False\n",
    "\n",
    "# outputing using generator function\n",
    "for i in tester_generator(\"abs.,\", func):\n",
    "    print(i)\n",
    "\n",
    "# outputing using generator expression\n",
    "for i in generator_expression(\"abas..ncz-234\", func):\n",
    "    print(i)"
   ]
  }
 ],
 "metadata": {
  "kernelspec": {
   "display_name": "Python 3 (ipykernel)",
   "language": "python",
   "name": "python3"
  },
  "language_info": {
   "codemirror_mode": {
    "name": "ipython",
    "version": 3
   },
   "file_extension": ".py",
   "mimetype": "text/x-python",
   "name": "python",
   "nbconvert_exporter": "python",
   "pygments_lexer": "ipython3",
   "version": "3.9.7"
  },
  "vscode": {
   "interpreter": {
    "hash": "482b359542af839b9b2903f1b93bd7a952aeaa577791401eeeb71f6a944e21b2"
   }
  }
 },
 "nbformat": 4,
 "nbformat_minor": 2
}
