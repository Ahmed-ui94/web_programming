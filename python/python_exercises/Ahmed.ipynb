{
 "cells": [
  {
   "cell_type": "code",
   "execution_count": 1,
   "metadata": {},
   "outputs": [
    {
     "name": "stdout",
     "output_type": "stream",
     "text": [
      "{'Age': 25, 'city': 'new york'}\n"
     ]
    }
   ],
   "source": [
    "sample_dict = {\n",
    "    'name' : 'Kelly',\n",
    "    'Age' : 25,\n",
    "    'salary' : 8000,\n",
    "    'city' : 'new york'\n",
    "}\n",
    "\n",
    "keys_to_added = ['name', 'salary']\n",
    "for key2 in list(sample_dict):\n",
    "    if key2 in keys_to_added:\n",
    "        del sample_dict[key2]\n",
    "\n",
    "print(sample_dict)"
   ]
  },
  {
   "cell_type": "code",
   "execution_count": 12,
   "metadata": {},
   "outputs": [
    {
     "name": "stdout",
     "output_type": "stream",
     "text": [
      "3: a\n",
      "4: b\n",
      "5: c\n"
     ]
    }
   ],
   "source": [
    "def myenumerate(iterable, number = 0):\n",
    "    \"\"\"a function the bahaves like enumerate function or class\"\"\"\n",
    "    for i in iterable:\n",
    "        yield (number, i)\n",
    "        number += 1\n",
    "\n",
    "for i, j in myenumerate('abc', 1):\n",
    "    print(f'{i}: {j}')"
   ]
  },
  {
   "cell_type": "code",
   "execution_count": 15,
   "metadata": {},
   "outputs": [
    {
     "name": "stdout",
     "output_type": "stream",
     "text": [
      "['a', 'b', 'c', 'a', 'b']\n"
     ]
    }
   ],
   "source": [
    "class CircleIterator():\n",
    "    def __init__(self, data, max_times) -> None:\n",
    "        self.data = data\n",
    "        self.max_times = max_times\n",
    "        self.index = 0\n",
    "\n",
    "    def __next__(self):\n",
    "        if self.index >= self.max_times:\n",
    "            raise StopIteration\n",
    "        value = self.data[self.index % len(self.data)]\n",
    "        self.index += 1\n",
    "\n",
    "        return value\n",
    "\n",
    "\n",
    "class Circle():\n",
    "    def __init__(self, data, max_times) -> None:\n",
    "        self.data = data\n",
    "        self.max_times = max_times\n",
    "\n",
    "\n",
    "    def __iter__(self):\n",
    "        return CircleIterator(self.data, self.max_times)\n",
    "\n",
    "\n",
    "c = Circle(\"abc\", 5)\n",
    "print(list(c))"
   ]
  }
 ],
 "metadata": {
  "kernelspec": {
   "display_name": "Python 3 (ipykernel)",
   "language": "python",
   "name": "python3"
  },
  "language_info": {
   "codemirror_mode": {
    "name": "ipython",
    "version": 3
   },
   "file_extension": ".py",
   "mimetype": "text/x-python",
   "name": "python",
   "nbconvert_exporter": "python",
   "pygments_lexer": "ipython3",
   "version": "3.9.7"
  },
  "vscode": {
   "interpreter": {
    "hash": "482b359542af839b9b2903f1b93bd7a952aeaa577791401eeeb71f6a944e21b2"
   }
  }
 },
 "nbformat": 4,
 "nbformat_minor": 2
}
