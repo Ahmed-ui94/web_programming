{
 "cells": [
  {
   "cell_type": "code",
   "execution_count": 1,
   "metadata": {},
   "outputs": [
    {
     "name": "stdout",
     "output_type": "stream",
     "text": [
      "{'Age': 25, 'city': 'new york'}\n"
     ]
    }
   ],
   "source": [
    "sample_dict = {\n",
    "    'name' : 'Kelly',\n",
    "    'Age' : 25,\n",
    "    'salary' : 8000,\n",
    "    'city' : 'new york'\n",
    "}\n",
    "\n",
    "keys_to_added = ['name', 'salary']\n",
    "for key2 in list(sample_dict):\n",
    "    if key2 in keys_to_added:\n",
    "        del sample_dict[key2]\n",
    "\n",
    "print(sample_dict)"
   ]
  },
  {
   "cell_type": "code",
   "execution_count": 12,
   "metadata": {},
   "outputs": [
    {
     "name": "stdout",
     "output_type": "stream",
     "text": [
      "3: a\n",
      "4: b\n",
      "5: c\n"
     ]
    }
   ],
   "source": [
    "def myenumerate(iterable, number = 0):\n",
    "    \"\"\"a function the bahaves like enumerate function or class\"\"\"\n",
    "    for i in iterable:\n",
    "        yield (number, i)\n",
    "        number += 1\n",
    "\n",
    "for i, j in myenumerate('abc', 1):\n",
    "    print(f'{i}: {j}')"
   ]
  },
  {
   "cell_type": "code",
   "execution_count": 15,
   "metadata": {},
   "outputs": [
    {
     "name": "stdout",
     "output_type": "stream",
     "text": [
      "['a', 'b', 'c', 'a', 'b']\n"
     ]
    }
   ],
   "source": [
    "class CircleIterator():\n",
    "    def __init__(self, data, max_times) -> None:\n",
    "        self.data = data\n",
    "        self.max_times = max_times\n",
    "        self.index = 0\n",
    "\n",
    "    def __next__(self):\n",
    "        if self.index >= self.max_times:\n",
    "            raise StopIteration\n",
    "        value = self.data[self.index % len(self.data)]\n",
    "        self.index += 1\n",
    "\n",
    "        return value\n",
    "\n",
    "\n",
    "class Circle():\n",
    "    def __init__(self, data, max_times) -> None:\n",
    "        self.data = data\n",
    "        self.max_times = max_times\n",
    "\n",
    "\n",
    "    def __iter__(self):\n",
    "        return CircleIterator(self.data, self.max_times)\n",
    "\n",
    "\n",
    "c = Circle(\"abc\", 5)\n",
    "print(list(c))"
   ]
  },
  {
   "cell_type": "code",
   "execution_count": null,
   "metadata": {},
   "outputs": [],
   "source": [
    "class CircleIterator():\n",
    "    def __init__(self, data, max_times) -> None:\n",
    "        self.data = data\n",
    "        self.max_times = max_times\n",
    "        self.index = 0\n",
    "\n",
    "    def __next__(self):\n",
    "        if self.index >= self.max_times:\n",
    "            raise StopIteration\n",
    "        value = self.data[self.index % len(self.data)]\n",
    "        self.index += 1\n",
    "\n",
    "        return value\n",
    "\n",
    "\n",
    "class Circle(CircleIterator):\n",
    "    def __init__(self, data, max_times) -> None:\n",
    "        super().__init__(data, max_times)\n",
    "    def __next__(self):\n",
    "        return super().__next__()\n",
    "\n",
    "\n",
    "    def __iter__(self):\n",
    "        return (self.data)\n",
    "\n",
    "c = Circle(\"abc\", 5)\n",
    "print(list(c))"
   ]
  },
  {
   "cell_type": "code",
   "execution_count": 21,
   "metadata": {},
   "outputs": [
    {
     "ename": "TypeError",
     "evalue": "'int' object is not iterable",
     "output_type": "error",
     "traceback": [
      "\u001b[0;31m---------------------------------------------------------------------------\u001b[0m",
      "\u001b[0;31mTypeError\u001b[0m                                 Traceback (most recent call last)",
      "\u001b[0;32m/var/folders/_2/3w853ywn7zn1bb0pkqpzky2h0000gn/T/ipykernel_6951/3375753289.py\u001b[0m in \u001b[0;36m<module>\u001b[0;34m\u001b[0m\n\u001b[1;32m      2\u001b[0m     \u001b[0;32mfor\u001b[0m \u001b[0mi\u001b[0m\u001b[0;34m,\u001b[0m \u001b[0mj\u001b[0m \u001b[0;32min\u001b[0m \u001b[0mzip\u001b[0m\u001b[0;34m(\u001b[0m\u001b[0miterable\u001b[0m\u001b[0;34m,\u001b[0m \u001b[0mmax_times\u001b[0m\u001b[0;34m)\u001b[0m\u001b[0;34m:\u001b[0m\u001b[0;34m\u001b[0m\u001b[0;34m\u001b[0m\u001b[0m\n\u001b[1;32m      3\u001b[0m         \u001b[0;32myield\u001b[0m \u001b[0mj\u001b[0m\u001b[0;34m\u001b[0m\u001b[0;34m\u001b[0m\u001b[0m\n\u001b[0;32m----> 4\u001b[0;31m \u001b[0mlist\u001b[0m\u001b[0;34m(\u001b[0m\u001b[0mCircle\u001b[0m\u001b[0;34m(\u001b[0m\u001b[0;34m\"abc\"\u001b[0m\u001b[0;34m,\u001b[0m \u001b[0;36m5\u001b[0m\u001b[0;34m)\u001b[0m\u001b[0;34m)\u001b[0m\u001b[0;34m\u001b[0m\u001b[0;34m\u001b[0m\u001b[0m\n\u001b[0m",
      "\u001b[0;32m/var/folders/_2/3w853ywn7zn1bb0pkqpzky2h0000gn/T/ipykernel_6951/3375753289.py\u001b[0m in \u001b[0;36mCircle\u001b[0;34m(iterable, max_times)\u001b[0m\n\u001b[1;32m      1\u001b[0m \u001b[0;32mdef\u001b[0m \u001b[0mCircle\u001b[0m\u001b[0;34m(\u001b[0m\u001b[0miterable\u001b[0m\u001b[0;34m,\u001b[0m \u001b[0mmax_times\u001b[0m\u001b[0;34m)\u001b[0m\u001b[0;34m:\u001b[0m\u001b[0;34m\u001b[0m\u001b[0;34m\u001b[0m\u001b[0m\n\u001b[0;32m----> 2\u001b[0;31m     \u001b[0;32mfor\u001b[0m \u001b[0mi\u001b[0m\u001b[0;34m,\u001b[0m \u001b[0mj\u001b[0m \u001b[0;32min\u001b[0m \u001b[0mzip\u001b[0m\u001b[0;34m(\u001b[0m\u001b[0miterable\u001b[0m\u001b[0;34m,\u001b[0m \u001b[0mmax_times\u001b[0m\u001b[0;34m)\u001b[0m\u001b[0;34m:\u001b[0m\u001b[0;34m\u001b[0m\u001b[0;34m\u001b[0m\u001b[0m\n\u001b[0m\u001b[1;32m      3\u001b[0m         \u001b[0;32myield\u001b[0m \u001b[0mj\u001b[0m\u001b[0;34m\u001b[0m\u001b[0;34m\u001b[0m\u001b[0m\n\u001b[1;32m      4\u001b[0m \u001b[0mlist\u001b[0m\u001b[0;34m(\u001b[0m\u001b[0mCircle\u001b[0m\u001b[0;34m(\u001b[0m\u001b[0;34m\"abc\"\u001b[0m\u001b[0;34m,\u001b[0m \u001b[0;36m5\u001b[0m\u001b[0;34m)\u001b[0m\u001b[0;34m)\u001b[0m\u001b[0;34m\u001b[0m\u001b[0;34m\u001b[0m\u001b[0m\n",
      "\u001b[0;31mTypeError\u001b[0m: 'int' object is not iterable"
     ]
    }
   ],
   "source": [
    "def Circle(iterable, max_times):\n",
    "    \n",
    "list(Circle(\"abc\", 5))"
   ]
  }
 ],
 "metadata": {
  "kernelspec": {
   "display_name": "Python 3 (ipykernel)",
   "language": "python",
   "name": "python3"
  },
  "language_info": {
   "codemirror_mode": {
    "name": "ipython",
    "version": 3
   },
   "file_extension": ".py",
   "mimetype": "text/x-python",
   "name": "python",
   "nbconvert_exporter": "python",
   "pygments_lexer": "ipython3",
   "version": "3.9.7"
  },
  "vscode": {
   "interpreter": {
    "hash": "482b359542af839b9b2903f1b93bd7a952aeaa577791401eeeb71f6a944e21b2"
   }
  }
 },
 "nbformat": 4,
 "nbformat_minor": 2
}
