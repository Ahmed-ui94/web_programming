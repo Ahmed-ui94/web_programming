{
 "cells": [
  {
   "cell_type": "code",
   "execution_count": null,
   "metadata": {},
   "outputs": [
    {
     "ename": "",
     "evalue": "",
     "output_type": "error",
     "traceback": [
      "\u001b[1;31mFailed to start the Kernel. \n",
      "\u001b[1;31mAttributeError: partially initialized module 'argparse' has no attribute 'ArgumentParser' (most likely due to a circular import). \n",
      "View Jupyter <a href='command:jupyter.viewOutput'>log</a> for further details."
     ]
    }
   ],
   "source": [
    "sample_dict = {\n",
    "    'name' : 'Kelly',\n",
    "    'Age' : 25,\n",
    "    'salary' : 8000,\n",
    "    'city' : 'new york'\n",
    "}\n",
    "\n",
    "keys_to_added = ['name', 'salary']\n",
    "for key2, items in sample_dict.items():\n",
    "    if key2 in keys_to_added:\n",
    "        del sample_dict[key2]\n",
    "\n",
    "print(sample_dict)"
   ]
  }
 ],
 "metadata": {
  "kernelspec": {
   "display_name": "Python 3.9.7 ('base')",
   "language": "python",
   "name": "python3"
  },
  "language_info": {
   "codemirror_mode": {
    "name": "ipython",
    "version": 3
   },
   "file_extension": ".py",
   "mimetype": "text/x-python",
   "name": "python",
   "nbconvert_exporter": "python",
   "pygments_lexer": "ipython3",
   "version": "3.9.7"
  },
  "orig_nbformat": 4,
  "vscode": {
   "interpreter": {
    "hash": "482b359542af839b9b2903f1b93bd7a952aeaa577791401eeeb71f6a944e21b2"
   }
  }
 },
 "nbformat": 4,
 "nbformat_minor": 2
}
