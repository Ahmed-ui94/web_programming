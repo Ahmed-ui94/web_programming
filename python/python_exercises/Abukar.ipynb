{
 "cells": [
  {
   "cell_type": "code",
   "execution_count": 1,
   "metadata": {},
   "outputs": [
    {
     "name": "stdout",
     "output_type": "stream",
     "text": [
      "invalid\n"
     ]
    }
   ],
   "source": [
    "import re\n",
    "email = input(\"What is yours email\").strip()\n",
    "\n",
    "if re.search(\"^.+@.+/.edu/$\", email):\n",
    "    print(\"valid\")\n",
    "else:\n",
    "    print(\"invalid\")\n",
    "       "
   ]
  },
  {
   "cell_type": "code",
   "execution_count": 1,
   "metadata": {},
   "outputs": [
    {
     "name": "stdout",
     "output_type": "stream",
     "text": [
      "Provide your number? 22\n",
      "484\n"
     ]
    }
   ],
   "source": [
    "def main():\n",
    "    x = int(input(\"Provide your number? \"))\n",
    "    print(square(x))\n",
    "\n",
    "\n",
    "\n",
    "def square(n):\n",
    "    return n*n\n",
    "\n",
    "main()"
   ]
  },
  {
   "cell_type": "code",
   "execution_count": 4,
   "metadata": {},
   "outputs": [
    {
     "name": "stdout",
     "output_type": "stream",
     "text": [
      "Odd\n"
     ]
    }
   ],
   "source": [
    "# program to evaluate whether a number is odd or even\n",
    "def main():\n",
    "    x = int(input(\"what's is x ?\"))\n",
    "    if is_even(x):\n",
    "        print(\"Even\")\n",
    "    else:\n",
    "        print(\"Odd\")\n",
    "\n",
    "# a function to check whether number is even \n",
    "def is_even(n):\n",
    "    return n%2 ==0\n",
    "\n",
    "main()"
   ]
  },
  {
   "cell_type": "code",
   "execution_count": 3,
   "metadata": {},
   "outputs": [
    {
     "name": "stdout",
     "output_type": "stream",
     "text": [
      "User List:  [22.0]\n"
     ]
    }
   ],
   "source": [
    "n = int(input(\"Enter the size of list : \"))\n",
    "\n",
    "numList = list(map(float, input(\"Enter the list numbers separated by space \").strip().split()))[:n]\n",
    "print(\"User List: \", numList)\n"
   ]
  },
  {
   "cell_type": "code",
   "execution_count": 1,
   "metadata": {},
   "outputs": [
    {
     "name": "stdout",
     "output_type": "stream",
     "text": [
      "Inside Vehicle Constructor\n",
      "Inside Car Constructor\n",
      "Inside Electric Car Constructor\n",
      "Engine=1500cc, Max Speed=240, Km range=750\n"
     ]
    }
   ],
   "source": [
    "class Vehicle:\n",
    "    # Constructor of Vehicle\n",
    "    def __init__(self, engine):\n",
    "        print('Inside Vehicle Constructor')\n",
    "        self.engine = engine\n",
    "\n",
    "class Car(Vehicle):\n",
    "    # Constructor of Car\n",
    "    def __init__(self, engine, max_speed):\n",
    "        super().__init__(engine)\n",
    "        print('Inside Car Constructor')\n",
    "        self.max_speed = max_speed\n",
    "\n",
    "class Electric_Car(Car):\n",
    "    # Constructor of Electric Car\n",
    "    def __init__(self, engine, max_speed, km_range):\n",
    "        super().__init__(engine, max_speed)\n",
    "        print('Inside Electric Car Constructor')\n",
    "        self.km_range = km_range\n",
    "\n",
    "# Object of electric car\n",
    "ev = Electric_Car('1500cc', 240, 750)\n",
    "print(f'Engine={ev.engine}, Max Speed={ev.max_speed}, Km range={ev.km_range}')\n"
   ]
  },
  {
   "cell_type": "code",
   "execution_count": 6,
   "metadata": {},
   "outputs": [
    {
     "name": "stdout",
     "output_type": "stream",
     "text": [
      "6910"
     ]
    }
   ],
   "source": [
    "def  myzip(n,m):\n",
    "    for i in range(0,len(n)):\n",
    "        print(n[i]+m[i], end='')\n",
    "    \n",
    "\n",
    "myzip([1, 3, 3],[5, 6, 7])\n"
   ]
  },
  {
   "cell_type": "code",
   "execution_count": 7,
   "metadata": {},
   "outputs": [
    {
     "name": "stdout",
     "output_type": "stream",
     "text": [
      "['my', 'name', 'is', 'kelly']\n",
      "['my', 'name', 'is', 'kelly']\n"
     ]
    }
   ],
   "source": [
    "list1 = ['m', 'na', 'i', 'ke']\n",
    "list2 = ['y', 'me', 's', 'lly']\n",
    "myoutput = []\n",
    "for i in range(0, len(list1)):\n",
    "    myoutput.append(list1[i]+list2[i])\n",
    "#using a zip function \n",
    "def myzip(n,m):\n",
    "    output =[i + j for i, j in zip(n,m) ]\n",
    "    print(output)\n",
    "myzip(list1,list2)\n",
    "print(myoutput)"
   ]
  },
  {
   "cell_type": "code",
   "execution_count": 9,
   "metadata": {},
   "outputs": [
    {
     "name": "stdout",
     "output_type": "stream",
     "text": [
      "[1, 4, 9, 16, 25, 36, 49]\n"
     ]
    }
   ],
   "source": [
    "# a program that squares a list of numbers\n",
    "numbers = [1, 2, 3, 4, 5, 6, 7]\n",
    "squares = list(map(lambda x: x * x, numbers))\n",
    "print(squares)"
   ]
  },
  {
   "cell_type": "code",
   "execution_count": 14,
   "metadata": {},
   "outputs": [
    {
     "name": "stdout",
     "output_type": "stream",
     "text": [
      "['Hello Dear', 'Hello Sir', 'take Dear', 'take Sir']\n"
     ]
    }
   ],
   "source": [
    "list1 = [\"Hello \", \"take \"]\n",
    "list2 = [\"Dear\", \"Sir\"]\n",
    "out = [i + j for i in list1 for j in list2]\n",
    "# a function to calculate the concatenation\n",
    "def myfunc():\n",
    "    for i in list1:\n",
    "        for j in list2:\n",
    "            out.append(i + j)\n",
    "print(out)"
   ]
  },
  {
   "cell_type": "code",
   "execution_count": null,
   "metadata": {},
   "outputs": [],
   "source": [
    "#iterating  both lists simultaneouly\n",
    "list1 = [10, 20, 30, 40]\n",
    "list2 = [100, 200, 300, 400]\n",
    "for i,j in zip(list1, reversed(list2)):\n",
    "    print(i, j, )\n",
    "    "
   ]
  },
  {
   "cell_type": "code",
   "execution_count": 30,
   "metadata": {},
   "outputs": [
    {
     "name": "stdout",
     "output_type": "stream",
     "text": [
      "['Mike', 'Emma', 'Kelly', 'Brad']\n"
     ]
    }
   ],
   "source": [
    "list1 = [\"Mike\", \"\", \"Emma\", \"Kelly\", \"\", \"Brad\"]\n",
    "def fit(n):\n",
    "    new = []\n",
    "    for i in n:\n",
    "        if not i:\n",
    "            continue\n",
    "        else:\n",
    "            newlist.append(i)\n",
    "newlist =list( filter(None, list1))\n",
    "\n",
    "print(newlist)"
   ]
  },
  {
   "cell_type": "code",
   "execution_count": 12,
   "metadata": {},
   "outputs": [
    {
     "name": "stdout",
     "output_type": "stream",
     "text": [
      "[10, 20, [300, 400, [5000, 6000, 7000], 500], 30, 40]\n"
     ]
    }
   ],
   "source": [
    "list1 = [10, 20, [300, 400, [5000, 6000], 500], 30, 40]\n",
    "# accesing the elements using indexing\n",
    "list1[2][2].append(7000)\n",
    "print(list1)"
   ]
  },
  {
   "cell_type": "code",
   "execution_count": 14,
   "metadata": {},
   "outputs": [
    {
     "name": "stdout",
     "output_type": "stream",
     "text": [
      "['a', 'b', ['c', ['d', 'e', ['f', 'g', 'h', 'i', 'j'], 'k'], 'l'], 'm', 'n']\n"
     ]
    }
   ],
   "source": [
    "list1 = [\"a\", \"b\", [\"c\", [\"d\", \"e\", [\"f\", \"g\"], \"k\"], \"l\"], \"m\", \"n\"]\n",
    "\n",
    "# sub list to add\n",
    "sub_list = [\"h\", \"i\", \"j\"]\n",
    "#concatenating two list using extend method\n",
    "list1[2][1][2].extend(sub_list)\n",
    "print(list1)"
   ]
  },
  {
   "cell_type": "code",
   "execution_count": 15,
   "metadata": {},
   "outputs": [
    {
     "name": "stdout",
     "output_type": "stream",
     "text": [
      "[5, 10, 15, 200, 25, 50, 20]\n"
     ]
    }
   ],
   "source": [
    "list1 = [5, 10, 15, 20, 25, 50, 20]\n",
    "val = list1.index(20)\n",
    "list1[val] = 200\n",
    "print(list1)"
   ]
  },
  {
   "cell_type": "code",
   "execution_count": 24,
   "metadata": {},
   "outputs": [
    {
     "name": "stdout",
     "output_type": "stream",
     "text": [
      "[5, 15, 25, 50]\n"
     ]
    }
   ],
   "source": [
    "list1 = [5, 20, 15, 20, 25, 50, 20]\n",
    "for i in list1:\n",
    "    if 20 in list1:\n",
    "        list1.remove(20)\n",
    "\n",
    "print(list1)"
   ]
  },
  {
   "cell_type": "code",
   "execution_count": 5,
   "metadata": {},
   "outputs": [
    {
     "name": "stdout",
     "output_type": "stream",
     "text": [
      "{'Ten': 10, 'Twenty': 20, 'Thirty': 30}\n"
     ]
    }
   ],
   "source": [
    "# joining two lists into dictionary making one as key and the other as value\n",
    "keys = ['Ten', 'Twenty', 'Thirty']\n",
    "values = [10, 20, 30]\n",
    "dic = {}\n",
    "for key1, valu in zip(keys, values):\n",
    "    dic[key1] = valu\n",
    "print(dic)"
   ]
  },
  {
   "cell_type": "code",
   "execution_count": 6,
   "metadata": {},
   "outputs": [
    {
     "name": "stdout",
     "output_type": "stream",
     "text": [
      "{'Ten': 10, 'Twenty': 20, 'Thirty': 30, 'Fourty': 40, 'Fifty': 50}\n"
     ]
    }
   ],
   "source": [
    "# concatenating two dictionary neglecting duplicates\n",
    "dict1 = {'Ten': 10, 'Twenty': 20, 'Thirty': 30}\n",
    "dict2 = {'Thirty': 30, 'Fourty': 40, 'Fifty': 50}\n",
    "dict3 = {}\n",
    "dict1.update(dict2)\n",
    "print(dict1)"
   ]
  },
  {
   "cell_type": "code",
   "execution_count": 1,
   "metadata": {},
   "outputs": [
    {
     "name": "stdout",
     "output_type": "stream",
     "text": [
      "80\n"
     ]
    }
   ],
   "source": [
    "sampleDict = {\n",
    "    \"class\": {\n",
    "        \"student\": {\n",
    "            \"name\": \"Mike\",\n",
    "            \"marks\": {\n",
    "                \"physics\": 70,\n",
    "                \"history\": 80\n",
    "            }\n",
    "        }\n",
    "    }\n",
    "}\n",
    "#accessing nested dictionary using indexing\n",
    "print(sampleDict['class']['student']['marks']['history'])"
   ]
  },
  {
   "cell_type": "code",
   "execution_count": 4,
   "metadata": {},
   "outputs": [
    {
     "name": "stdout",
     "output_type": "stream",
     "text": [
      "{'designation': 'Developer', 'salary': 8000, ('Kelly', 'Emma'): None}\n"
     ]
    }
   ],
   "source": [
    "employees = ['Kelly', 'Emma']\n",
    "defaults = {\"designation\": 'Developer', \"salary\": 8000}\n",
    "defaults.setdefault(tuple(employees))\n",
    "print(defaults)"
   ]
  },
  {
   "cell_type": "code",
   "execution_count": 1,
   "metadata": {},
   "outputs": [
    {
     "name": "stdout",
     "output_type": "stream",
     "text": [
      "{'name': 'Kelly', 'salary': 8000}\n"
     ]
    }
   ],
   "source": [
    "#extracting keys from a dictionary and adding to a new dictionarys\n",
    "sample_dict = {\n",
    "    'name' : 'Kelly',\n",
    "    'Age' : 25,\n",
    "    'salary' : 8000,\n",
    "    'city' : 'new york'\n",
    "\n",
    "}\n",
    "keys_to_added = ['name', 'salary']\n",
    "new_dict = {}\n",
    "for key1, val in sample_dict.items():\n",
    "    if key1 in keys_to_added:\n",
    "        new_dict[key1] = val\n",
    "print(new_dict)        \n",
    "\n"
   ]
  },
  {
   "cell_type": "code",
   "execution_count": 9,
   "metadata": {},
   "outputs": [
    {
     "name": "stdout",
     "output_type": "stream",
     "text": [
      "{'Age': 25, 'city': 'new york'}\n"
     ]
    }
   ],
   "source": [
    "sample_dict = {\n",
    "    'name' : 'Kelly',\n",
    "    'Age' : 25,\n",
    "    'salary' : 8000,\n",
    "    'city' : 'new york'\n",
    "\n",
    "}\n",
    "keys_to_added = ['name', 'salary']\n",
    "for key2 in list(sample_dict.keys()):\n",
    "    if key2 in keys_to_added:\n",
    "        del sample_dict[key2]\n",
    "print(sample_dict)\n"
   ]
  },
  {
   "cell_type": "code",
   "execution_count": 21,
   "metadata": {},
   "outputs": [
    {
     "name": "stdout",
     "output_type": "stream",
     "text": [
      "Putin      Vladamir   3.63\n",
      "Trump      Donald     7.85\n",
      "Xi         Jinping    10.60\n"
     ]
    }
   ],
   "source": [
    "from collections import namedtuple\n",
    "from operator import itemgetter\n",
    "\n",
    "PEOPLE = [\n",
    "    (\"Donald\", \"Trump\", 7.85),\n",
    "    (\"Vladamir\", \"Putin\", 3.626),\n",
    "    (\"Jinping\", \"Xi\", 10.603)\n",
    "]\n",
    "\n",
    "people = namedtuple(\"people\",(\"Name\", \"L_name\", \"Time\") )\n",
    "people = people(*PEOPLE)\n",
    "\n",
    "\n",
    "#printing PEOPLE in a database format\n",
    "for i in sorted(people, key=itemgetter(1, 0)):\n",
    "    print(f'{i[1]:10} {i[0]:10} {i[2]:.2f}')\n"
   ]
  },
  {
   "cell_type": "code",
   "execution_count": 3,
   "metadata": {},
   "outputs": [
    {
     "name": "stdout",
     "output_type": "stream",
     "text": [
      "sorry we are fresh out of Elephant today\n",
      "Tea costs 7, total is 7\n",
      "Coffee costs 8, total is 15\n",
      "Your total is 15\n"
     ]
    }
   ],
   "source": [
    "MENU = {\n",
    "    \"Sandwich\": 10,\n",
    "    \"Tea\": 7,\n",
    "    \"Coffee\": 8,\n",
    "    \"Juice\": 3\n",
    "}\n",
    "\n",
    "# function to manipulate and search user input\n",
    "def restaurant():\n",
    "    total = 0\n",
    "    while True:\n",
    "        order = input(\"Order: \").capitalize().strip()\n",
    "        \n",
    "        if order in MENU.keys():\n",
    "            total += MENU[order]\n",
    "            print(f'{order} costs {MENU[order]}, total is {total}')\n",
    "            \n",
    "        elif not order:\n",
    "            print(f'Your total is {total}')\n",
    "            break\n",
    "\n",
    "        else:\n",
    "            print(f'sorry we are fresh out of {order} today')\n",
    "            \n",
    "\n",
    "restaurant()"
   ]
  },
  {
   "cell_type": "code",
   "execution_count": 6,
   "metadata": {},
   "outputs": [
    {
     "name": "stdout",
     "output_type": "stream",
     "text": [
      "8992 days old\n"
     ]
    }
   ],
   "source": [
    "import datetime\n",
    "import pytz\n",
    "\n",
    "DATE = {\n",
    "    \"Ahmed\": '2000-10-22',\n",
    "    \"Abdiaziz\": \"2004-03-15\",\n",
    "    \"Ibrahim\": \"1998-01-10\"\n",
    "}\n",
    "\n",
    "\n",
    "def date_retriever():\n",
    "    user = input(\"Name: \").capitalize()\n",
    "    tday = datetime.date.today()\n",
    "    if user in DATE.keys():\n",
    "        bday = datetime.date.fromisoformat(DATE[user])\n",
    "        deff = tday - bday\n",
    "        print(f'{deff.days} days old')\n",
    "    else:\n",
    "        print(f\"That is not a family member\")\n",
    "\n",
    "\n",
    "date_retriever()\n"
   ]
  },
  {
   "cell_type": "code",
   "execution_count": 25,
   "metadata": {},
   "outputs": [
    {
     "name": "stdout",
     "output_type": "stream",
     "text": [
      ".png: 4\n",
      ".ipynb: 2\n",
      ".py: 66\n",
      ": 3\n",
      ".csv: 3\n"
     ]
    }
   ],
   "source": [
    "import os\n",
    "from collections import defaultdict\n",
    "\n",
    "files = os.listdir('/Users/ahmedabukar/Desktop/productivity_files/python/python_exercises')\n",
    "#print(files)\n",
    "dir = defaultdict(int)\n",
    "for i in files:\n",
    "    root, ext = os.path.splitext(i)\n",
    "    dir[ext] += 1\n",
    "\n",
    "for i, j in dir.items():\n",
    "    print(f'{i}: {j}')"
   ]
  },
  {
   "cell_type": "code",
   "execution_count": 29,
   "metadata": {},
   "outputs": [
    {
     "name": "stdout",
     "output_type": "stream",
     "text": [
      "Special,$18.50,$26.95\n"
     ]
    }
   ],
   "source": [
    "def get_final_line(f):\n",
    "    with open(f, 'r') as file:\n",
    "        fp = file.readlines()\n",
    "        print(fp[-1])\n",
    "\n",
    "get_final_line('regular.csv')"
   ]
  },
  {
   "cell_type": "code",
   "execution_count": null,
   "metadata": {},
   "outputs": [],
   "source": [
    "\n",
    "with open('after.csv', 'r') as fp:\n",
    "    file = fp.read()\n",
    "    di = defaultdict(int)\n",
    "    for i in file:\n",
    "        di[i] += 1\n",
    "\n",
    "for i, j in di.items():\n",
    "    print(f'{i}: {j}')\n",
    "        "
   ]
  },
  {
   "cell_type": "code",
   "execution_count": 9,
   "metadata": {},
   "outputs": [
    {
     "name": "stdout",
     "output_type": "stream",
     "text": [
      "{'/usr/bin/false\\n': 239, '/bin/sh\\n': 0, '/usr/sbin/uucico\\n': 4}\n"
     ]
    }
   ],
   "source": [
    "from collections import defaultdict\n",
    "\n",
    "def password_dict(f):\n",
    "    users = {}\n",
    "    with open(f) as file:\n",
    "        for line in file:\n",
    "            if not line.startswith((\"#\", \"\\n\")):\n",
    "                user_info = line.split(\":\")\n",
    "                users[user_info[0]] = int(user_info[2])\n",
    "    return users\n",
    "\n",
    "print(password_dict('passwd.txt'))"
   ]
  },
  {
   "cell_type": "code",
   "execution_count": null,
   "metadata": {},
   "outputs": [],
   "source": [
    "from collections import defaultdict\n",
    "\n",
    "def passwoe(f):\n",
    "    users = defaultdict(list)\n",
    "    with open(f) as file:\n",
    "        for line in file:\n",
    "            if not line.startswith((\"#\", \"\\n\")):\n",
    "                user_info = line.split(\":\")\n",
    "                users[user_info[-1]] += user_info[2]\n",
    "\n",
    "    return users\n",
    "\n",
    "print(passwoe(\"passwd.txt\"))"
   ]
  },
  {
   "cell_type": "code",
   "execution_count": 33,
   "metadata": {},
   "outputs": [
    {
     "name": "stdout",
     "output_type": "stream",
     "text": [
      "characters: 5633\n",
      "words: 243\n",
      "lines: 86\n",
      "unique_words: 181\n"
     ]
    }
   ],
   "source": [
    "def wordcount(f):\n",
    "    counts = {\n",
    "        \"characters\": 0,\n",
    "        \"words\": 0,\n",
    "        \"lines\": 0,\n",
    "        \"unique_words\": set()\n",
    "    }\n",
    "\n",
    "    with open(f) as fp:\n",
    "        for line in fp:\n",
    "            counts[\"lines\"] += 1\n",
    "            counts[\"characters\"] += len(line)\n",
    "            counts['words'] += len(line.split())\n",
    "            counts[\"unique_words\"].update(line.split())\n",
    "    \n",
    "    counts[\"unique_words\"] = len(counts[\"unique_words\"])\n",
    "\n",
    "    for i, j in counts.items():\n",
    "        print(f'{i}: {j}')\n",
    "\n",
    "wordcount(\"passwd.txt\")\n"
   ]
  },
  {
   "cell_type": "code",
   "execution_count": 13,
   "metadata": {},
   "outputs": [
    {
     "data": {
      "text/plain": [
       "[('\\n', 15622),\n",
       " ('       *       *       *       *       *\\n', 131),\n",
       " (\"_Dr. Seward's Diary._\\n\", 25),\n",
       " ('This eBook is for the use of anyone anywhere at no cost and with\\n', 16),\n",
       " ('re-use it under the terms of the Project Gutenberg License included\\n', 16)]"
      ]
     },
     "execution_count": 13,
     "metadata": {},
     "output_type": "execute_result"
    }
   ],
   "source": [
    "from collections import Counter\n",
    "\n",
    "\n",
    "def word_frequency(directory):\n",
    "    dict = {}\n",
    "    for i in os.listdir(directory):\n",
    "        k = os.path.join(directory, i)\n",
    "        for j in open(k):\n",
    "            j.lower()\n",
    "            if j not in dict.keys():\n",
    "                dict[j] = 1\n",
    "            else: dict[j] += 1\n",
    "    return Counter(dict).most_common(5)\n",
    "\n",
    "\n",
    "word_frequency('/Users/ahmedabukar/Desktop/productivity_files/python/python_exercises/books')    "
   ]
  },
  {
   "cell_type": "code",
   "execution_count": 18,
   "metadata": {},
   "outputs": [
    {
     "name": "stdout",
     "output_type": "stream",
     "text": [
      "xa.txt: http://www.gutenberg.org/4/43/\n",
      "lala.txt: http://www.gutenberg.org/8/84/\n",
      "fafa.txt: http://www.gutenberg.org/6/1/1/0/61105/\n",
      "p.txt: http://www.gutenberg.org/2/5/5/2/25525/\n",
      "dala.txt: http://www.gutenberg.net/4/46/\n",
      "pg28860.txt: http://www.gutenberg.org/2/8/8/6/28860/\n",
      "pg.txt: two-pages-to-the-week-with-Sunday-squeezed-in-a-corner\n",
      "Paaa.txt: _________________________________________________\n",
      "alph.txt: http://www.gutenberg.org/1/3/4/1342/\n",
      "pa.txt: http://www.gutenberg.org/2/7/0/2701/\n"
     ]
    }
   ],
   "source": [
    "import os\n",
    "import pathlib\n",
    "\n",
    "def find_longest_word(f):\n",
    "    longest_word = ''\n",
    "    for one_line in open(f):\n",
    "        for one_word in one_line.split():\n",
    "            if len(one_word) > len(longest_word):\n",
    "                longest_word = one_word\n",
    "    return longest_word\n",
    "\n",
    "#function to find the longest word in files of a directory\n",
    "def find_longest_words(dir):\n",
    "    path = pathlib.Path(dir)\n",
    "    return {filename: find_longest_word(filename) for filename in path.iterdir() if pathlib.Path.is_file(filename)}\n",
    "\n",
    "longwords = find_longest_words('/Users/ahmedabukar/Desktop/productivity_files/python/python_exercises/books')\n",
    "for i, j in longwords.items():\n",
    "    print(f'{i.name}: {j}')       "
   ]
  },
  {
   "cell_type": "code",
   "execution_count": 16,
   "metadata": {},
   "outputs": [
    {
     "name": "stdout",
     "output_type": "stream",
     "text": [
      "xa.txt: 8ff3e7e6e7d90757f0d6e104f935e699\n",
      "lala.txt: b1fbb17a9bb55b281b093d52288929e3\n",
      "fafa.txt: 6f58595de6dfc5ea028d3a7e7d58dd8c\n",
      "p.txt: d2c79c8519af858fac2993c2373b5203\n",
      "dala.txt: c7af74c086d0a1e574fc01b30648fed6\n",
      "pg28860.txt: 4320d980f5e09a9f9f52c436133af348\n",
      "pg.txt: fccd3f96d461f495a3bef31dc1d28f01\n",
      "Paaa.txt: c760e4ce8b0df76afff5f3bb8cbeffdc\n",
      "alph.txt: f2a0ed528faf3b47e39dbbfb94cb01d1\n",
      "pa.txt: b0ad726bfecf30285632a619e0bf2763\n"
     ]
    }
   ],
   "source": [
    "from hashlib import  md5\n",
    "import os\n",
    "import pathlib\n",
    "\n",
    "# function to converts the contents of a file into a hash\n",
    "def hahlibs_for_contents(f):\n",
    "    md51 = md5()\n",
    "    fname = open(f, 'rb')\n",
    "    while chunk := fname.read():\n",
    "        md51.update(chunk)\n",
    "\n",
    "    return md51.hexdigest()\n",
    "\n",
    "# converts the files in directory into hashs\n",
    "def hash_libs_in_dir(dirname):\n",
    "    p = pathlib.Path(dirname)\n",
    "    return {fname: hahlibs_for_contents(fname) for fname in p.iterdir()}\n",
    "\n",
    "\n",
    "hashs = hash_libs_in_dir('/Users/ahmedabukar/Desktop/productivity_files/python/python_exercises/books')\n",
    "for i, j in hashs.items():\n",
    "    print(f'{i.name:.11}: {j}')"
   ]
  },
  {
   "cell_type": "code",
   "execution_count": 32,
   "metadata": {},
   "outputs": [
    {
     "name": "stdout",
     "output_type": "stream",
     "text": [
      "file name xa.txt: data modified 27/08/2022\n",
      "file name lala.txt: data modified 06/01/2020\n",
      "file name fafa.txt: data modified 06/01/2020\n",
      "file name p.txt: data modified 06/01/2020\n",
      "file name dala.txt: data modified 06/01/2020\n",
      "file name pg28860.tx: data modified 06/01/2020\n",
      "file name pg.txt: data modified 06/01/2020\n",
      "file name Paaa.txt: data modified 06/01/2020\n",
      "file name alph.txt: data modified 06/01/2020\n",
      "file name pa.txt: data modified 06/01/2020\n"
     ]
    }
   ],
   "source": [
    "import imp\n",
    "import arrow\n",
    "import os\n",
    "import pathlib\n",
    "\n",
    "def files_states(dirname):\n",
    "    dict = {}\n",
    "    p = pathlib.Path(dirname)\n",
    "    for i in p.iterdir():\n",
    "        file = os.stat(i)\n",
    "        \n",
    "        date = arrow.get(file.st_mtime)\n",
    "        dict[i] = date.format(\"DD/MM/YYYY\")\n",
    "    return dict\n",
    "\n",
    "data = files_states('/Users/ahmedabukar/Desktop/productivity_files/python/python_exercises/books')\n",
    "for i, j in data.items():\n",
    "    print(f'file name {i.name:.10}: data modified {j}')"
   ]
  },
  {
   "cell_type": "code",
   "execution_count": 3,
   "metadata": {},
   "outputs": [],
   "source": [
    "import csv\n",
    "\n",
    "# read and write by filtering the readfile \n",
    "def passwd_to_csv(read_file, write_file):\n",
    "    with open(read_file, 'r') as csvfile:\n",
    "        read = csv.reader(csvfile, delimiter=':')\n",
    "\n",
    "        with open(write_file, 'w') as csvwriter:\n",
    "            writer = csv.writer(csvwriter, delimiter=\"\\t\")\n",
    "            \n",
    "            for readline in read:\n",
    "                if not readline[0].startswith('#'):\n",
    "                    writer.writerow((readline[0], readline[0]))\n",
    "\n",
    "passwd_to_csv('/Users/ahmedabukar/Desktop/productivity_files/python/python_exercises/passwd.txt', '/Users/ahmedabukar/Desktop/productivity_files/python/python_exercises/write.csv')"
   ]
  },
  {
   "cell_type": "code",
   "execution_count": 38,
   "metadata": {},
   "outputs": [
    {
     "name": "stdout",
     "output_type": "stream",
     "text": [
      "first line: Sum 514.0 average 51.4\n",
      "first line: Sum 657.0 average 65.7\n",
      "first line: Sum 551.0 average 55.1\n",
      "first line: Sum 580.0 average 58.0\n",
      "first line: Sum 470.0 average 47.0\n",
      "first line: Sum 426.0 average 42.6\n",
      "first line: Sum 524.0 average 52.4\n",
      "first line: Sum 719.0 average 71.9\n",
      "first line: Sum 523.0 average 52.3\n",
      "first line: Sum 796.0 average 79.6\n"
     ]
    }
   ],
   "source": [
    "import csv\n",
    "import random\n",
    "\n",
    "def csv_file_manipulation(file):\n",
    "    with open(file, 'w')as csv_file:\n",
    "        writer = csv.writer(csv_file, delimiter=' ')\n",
    "        for i in range(1, 11):\n",
    "            list = []\n",
    "            for j in range(1, 11):\n",
    "                list.append(random.randint(10, 100))\n",
    "            writer.writerow(list)\n",
    "    with open(file, 'r') as csv_read:\n",
    "        reader = csv.reader(csv_read, quoting=csv.QUOTE_NONNUMERIC, delimiter=\" \")\n",
    "        for readline in reader:\n",
    "            sum1 = sum(readline)\n",
    "            average = sum1 / len(readline)\n",
    "            print(f'first line: Sum {sum1} average {average}')\n",
    "\n",
    "\n",
    "csv_file_manipulation('/Users/ahmedabukar/Desktop/productivity_files/python/python_exercises/csv_manipulation.csv')"
   ]
  },
  {
   "cell_type": "code",
   "execution_count": 42,
   "metadata": {},
   "outputs": [],
   "source": [
    "import csv\n",
    "\n",
    "def dict_to_csvfile(file_path):\n",
    "    dict = {'gallons': 100, 'sickles': 50, 'knuts': 25}\n",
    "    with open(file_path, 'w') as csv_file:\n",
    "        write = csv.writer(csv_file, delimiter=' ')\n",
    "\n",
    "        for i, j in dict.items():\n",
    "            write.writerow((i, j, type(j).__name__))\n",
    "\n",
    "dict_to_csvfile('/Users/ahmedabukar/Desktop/productivity_files/python/python_exercises/type_csv.csv')"
   ]
  },
  {
   "cell_type": "code",
   "execution_count": 62,
   "metadata": {},
   "outputs": [],
   "source": [
    "import csv\n",
    "import json\n",
    "\n",
    "\n",
    "def csv_to_json(csv_file, json_file):\n",
    "    dic = {}\n",
    "\n",
    "    with open(csv_file, 'r') as csvfile:\n",
    "        dictread = csv.DictReader(csvfile)\n",
    "\n",
    "        for reader in dictread:\n",
    "            key = reader['##']\n",
    "            dic[key] = tuple(reader)\n",
    "        \n",
    "    with open(json_file, 'w') as json_file1:\n",
    "        json.dump(dic, json_file1, sort_keys=True, indent=4)\n",
    "\n",
    "\n",
    "csv_to_json('passwd.txt', 'json_file.json')"
   ]
  },
  {
   "cell_type": "code",
   "execution_count": 18,
   "metadata": {},
   "outputs": [
    {
     "name": "stdout",
     "output_type": "stream",
     "text": [
      "08:22:48.941877\n"
     ]
    }
   ],
   "source": [
    "import json\n",
    "from pathlib import Path\n",
    "import datetime\n",
    "\n",
    "# function to output folder data into a file\n",
    "def folder_info(directory_name, write_file):\n",
    "    p = Path(directory_name)\n",
    "\n",
    "    list = {}\n",
    "    for i in p.iterdir():\n",
    "        if i.is_file():\n",
    "            file_info = i.stat()\n",
    "            list[i.name] = (file_info.st_size, file_info.st_mtime)\n",
    "    with open(write_file, 'w') as fp:\n",
    "        json.dump(list, fp, indent=4)\n",
    "\n",
    "    with open(write_file, 'r') as f:\n",
    "        data = json.load(f)\n",
    "        \n",
    "        most_modified = 0\n",
    "        least_modified = 0\n",
    "        largest_size = 0\n",
    "        smallest_size = 0\n",
    "        for i, j in data.items():\n",
    "            smallest_size = j[0]\n",
    "            least_modified = j[1]\n",
    "            if j[0] > largest_size:\n",
    "                largest_size = j[0]\n",
    "            elif j[0] < smallest_size:\n",
    "                smallest_size = j[0]\n",
    "            if j[1] > most_modified:\n",
    "                most_modified = j[1]\n",
    "            elif j[1] < least_modified:\n",
    "                least_modified = j[1]\n",
    "    return (most_modified, least_modified, largest_size, smallest_size)\n",
    "\n",
    "# outputing files that last modified and largest size files\n",
    "file_data = folder_info(\"/Users/ahmedabukar/Desktop/productivity_files/python/python_exercises\", 'json1.json')\n",
    "\n",
    "print(datetime.datetime.fromtimestamp(file_data[0]).time())"
   ]
  },
  {
   "cell_type": "code",
   "execution_count": 28,
   "metadata": {},
   "outputs": [],
   "source": [
    "def reverse_lines(read_file, write_file):\n",
    "    \"\"\"reverse lines from one file to another\"\"\"\n",
    "    with open(read_file, 'r') as fp, open(write_file, 'w') as f:\n",
    "        for readline in fp:\n",
    "            readline = readline.rstrip()\n",
    "            f.write(f'{readline[::-1]}\\n')\n",
    "\n",
    "reverse_lines('passwd.txt','reversed_file.txt')\n",
    "            \n",
    "            "
   ]
  },
  {
   "cell_type": "code",
   "execution_count": null,
   "metadata": {},
   "outputs": [],
   "source": [
    "import pathlib\n",
    "\n",
    "\n",
    "def print_file_sizes(dir):\n",
    "    \"\"\"Print file sizes in a directory, recurse into subdirs.\"\"\"\n",
    "    \n",
    "    paths_to_process = [dir]\n",
    "    while paths_to_process:\n",
    "        path, *paths_to_process = paths_to_process\n",
    "        path_obj = pathlib.Path(path)\n",
    "        if path_obj.is_file():\n",
    "            print(path, path_obj.stat().st_size)\n",
    "        else:\n",
    "            paths_to_process += path_obj.glob(\"*\")\n",
    "\n",
    "print_file_sizes('/Users/ahmedabukar/Desktop/productivity_files/python')"
   ]
  },
  {
   "cell_type": "code",
   "execution_count": null,
   "metadata": {},
   "outputs": [],
   "source": [
    "import pathlib\n",
    "def print_file_sizes(path):\n",
    "    \"\"\"Print file sizes in a directory.\"\"\"\n",
    "    path_obj = pathlib.Path(path)\n",
    "    if path_obj.is_file():\n",
    "        print(path, path_obj.stat().st_size)\n",
    "    else:\n",
    "        for path in path_obj.glob(\"*\"):\n",
    "            print_file_sizes(path)\n",
    "\n",
    "print_file_sizes('/Users/ahmedabukar/Desktop/productivity_files/python')"
   ]
  },
  {
   "cell_type": "code",
   "execution_count": 53,
   "metadata": {},
   "outputs": [],
   "source": [
    "def encrypt_decrypt(file, file1):\n",
    "    \"\"\"Ecrypt a file as well as decrypt it\"\"\"\n",
    "    with open(file, 'r') as fp, open(file1, 'w') as f:\n",
    "        for line in fp:\n",
    "            for chr2 in line:\n",
    "                f.write(str(ord(chr2)))\n",
    "    with open(file1, 'r') as fi, open(file1, 'w') as fd:\n",
    "        for one_line in fi:\n",
    "            for num in one_line:\n",
    "                fd.write(chr(num))\n",
    "\n",
    "\n",
    "\n",
    "encrypt_decrypt('passwd.txt', 'ecrypted_file.txt')"
   ]
  },
  {
   "cell_type": "code",
   "execution_count": 62,
   "metadata": {},
   "outputs": [],
   "source": [
    "def filter_file(input_file, output1_file, output_file2):\n",
    "    \"\"\" filter the input file by sorting it into vowels and consonants and output \n",
    "    it two different files \"\"\"\n",
    "    \n",
    "    with open(input_file, 'r') as input1, open(output1_file, 'w') as output1, open(output_file2, 'w') as output2:\n",
    "        for one_line in input1:\n",
    "            for letters in one_line:\n",
    "                if letters.isalpha():\n",
    "                    if letters.lower() in 'aeiou':\n",
    "                        output1.write(letters)\n",
    "                    elif letters.isalpha():\n",
    "                        output2.write(letters)\n",
    "            \n",
    "            output1.write('\\n')\n",
    "            output2.write('\\n')\n",
    "\n",
    "\n",
    "filter_file('passwd.txt', 'output1.txt', 'output2.txt')    "
   ]
  },
  {
   "cell_type": "code",
   "execution_count": 67,
   "metadata": {},
   "outputs": [],
   "source": [
    "def passwd_file(input_file, output_file):\n",
    "    with open(input_file, 'r') as fp, open(output_file, 'w+') as f:\n",
    "        for one_line in fp:\n",
    "            line = one_line.split(':')\n",
    "            if line[-1] not in f:\n",
    "                f.write(f'{line[-1]}: {line[0]}')\n",
    "            else:\n",
    "                f.write(f'{line[-1]}: {line[0]}')\n",
    "\n",
    "passwd_file('passwd.txt', 'shell.txt')"
   ]
  }
 ],
 "metadata": {
  "kernelspec": {
   "display_name": "Python 3.9.12",
   "language": "python",
   "name": "python3"
  },
  "language_info": {
   "codemirror_mode": {
    "name": "ipython",
    "version": 3
   },
   "file_extension": ".py",
   "mimetype": "text/x-python",
   "name": "python",
   "nbconvert_exporter": "python",
   "pygments_lexer": "ipython3",
   "version": "3.9.12"
  },
  "vscode": {
   "interpreter": {
    "hash": "3067ead486e059ec00ffe7555bdb889e6e264a24dc711bf108106cc7baee8d5d"
   }
  }
 },
 "nbformat": 4,
 "nbformat_minor": 2
}
