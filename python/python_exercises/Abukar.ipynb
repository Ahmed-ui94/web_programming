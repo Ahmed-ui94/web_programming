{
 "cells": [
  {
   "cell_type": "code",
   "execution_count": 1,
   "metadata": {},
   "outputs": [
    {
     "name": "stdout",
     "output_type": "stream",
     "text": [
      "invalid\n"
     ]
    }
   ],
   "source": [
    "import re\n",
    "email = input(\"What is yours email\").strip()\n",
    "\n",
    "if re.search(\"^.+@.+/.edu/$\", email):\n",
    "    print(\"valid\")\n",
    "else:\n",
    "    print(\"invalid\")\n",
    "       "
   ]
  },
  {
   "cell_type": "code",
   "execution_count": 1,
   "metadata": {},
   "outputs": [
    {
     "name": "stdout",
     "output_type": "stream",
     "text": [
      "Provide your number? 22\n",
      "484\n"
     ]
    }
   ],
   "source": [
    "def main():\n",
    "    x = int(input(\"Provide your number? \"))\n",
    "    print(square(x))\n",
    "\n",
    "\n",
    "\n",
    "def square(n):\n",
    "    return n*n\n",
    "\n",
    "main()"
   ]
  },
  {
   "cell_type": "code",
   "execution_count": 4,
   "metadata": {},
   "outputs": [
    {
     "name": "stdout",
     "output_type": "stream",
     "text": [
      "Odd\n"
     ]
    }
   ],
   "source": [
    "# program to evaluate whether a number is odd or even\n",
    "def main():\n",
    "    x = int(input(\"what's is x ?\"))\n",
    "    if is_even(x):\n",
    "        print(\"Even\")\n",
    "    else:\n",
    "        print(\"Odd\")\n",
    "\n",
    "# a function to check whether number is even \n",
    "def is_even(n):\n",
    "    return n%2 ==0\n",
    "\n",
    "main()"
   ]
  },
  {
   "cell_type": "code",
   "execution_count": 3,
   "metadata": {},
   "outputs": [
    {
     "name": "stdout",
     "output_type": "stream",
     "text": [
      "User List:  [22.0]\n"
     ]
    }
   ],
   "source": [
    "n = int(input(\"Enter the size of list : \"))\n",
    "\n",
    "numList = list(map(float, input(\"Enter the list numbers separated by space \").strip().split()))[:n]\n",
    "print(\"User List: \", numList)\n"
   ]
  },
  {
   "cell_type": "code",
   "execution_count": 1,
   "metadata": {},
   "outputs": [
    {
     "name": "stdout",
     "output_type": "stream",
     "text": [
      "Inside Vehicle Constructor\n",
      "Inside Car Constructor\n",
      "Inside Electric Car Constructor\n",
      "Engine=1500cc, Max Speed=240, Km range=750\n"
     ]
    }
   ],
   "source": [
    "class Vehicle:\n",
    "    # Constructor of Vehicle\n",
    "    def __init__(self, engine):\n",
    "        print('Inside Vehicle Constructor')\n",
    "        self.engine = engine\n",
    "\n",
    "class Car(Vehicle):\n",
    "    # Constructor of Car\n",
    "    def __init__(self, engine, max_speed):\n",
    "        super().__init__(engine)\n",
    "        print('Inside Car Constructor')\n",
    "        self.max_speed = max_speed\n",
    "\n",
    "class Electric_Car(Car):\n",
    "    # Constructor of Electric Car\n",
    "    def __init__(self, engine, max_speed, km_range):\n",
    "        super().__init__(engine, max_speed)\n",
    "        print('Inside Electric Car Constructor')\n",
    "        self.km_range = km_range\n",
    "\n",
    "# Object of electric car\n",
    "ev = Electric_Car('1500cc', 240, 750)\n",
    "print(f'Engine={ev.engine}, Max Speed={ev.max_speed}, Km range={ev.km_range}')\n"
   ]
  },
  {
   "cell_type": "code",
   "execution_count": 6,
   "metadata": {},
   "outputs": [
    {
     "name": "stdout",
     "output_type": "stream",
     "text": [
      "6910"
     ]
    }
   ],
   "source": [
    "def  myzip(n,m):\n",
    "    for i in range(0,len(n)):\n",
    "        print(n[i]+m[i], end='')\n",
    "    \n",
    "\n",
    "myzip([1, 3, 3],[5, 6, 7])\n"
   ]
  },
  {
   "cell_type": "code",
   "execution_count": 7,
   "metadata": {},
   "outputs": [
    {
     "name": "stdout",
     "output_type": "stream",
     "text": [
      "['my', 'name', 'is', 'kelly']\n",
      "['my', 'name', 'is', 'kelly']\n"
     ]
    }
   ],
   "source": [
    "list1 = ['m', 'na', 'i', 'ke']\n",
    "list2 = ['y', 'me', 's', 'lly']\n",
    "myoutput = []\n",
    "for i in range(0, len(list1)):\n",
    "    myoutput.append(list1[i]+list2[i])\n",
    "#using a zip function \n",
    "def myzip(n,m):\n",
    "    output =[i + j for i, j in zip(n,m) ]\n",
    "    print(output)\n",
    "myzip(list1,list2)\n",
    "print(myoutput)"
   ]
  },
  {
   "cell_type": "code",
   "execution_count": 9,
   "metadata": {},
   "outputs": [
    {
     "name": "stdout",
     "output_type": "stream",
     "text": [
      "[1, 4, 9, 16, 25, 36, 49]\n"
     ]
    }
   ],
   "source": [
    "# a program that squares a list of numbers\n",
    "numbers = [1, 2, 3, 4, 5, 6, 7]\n",
    "squares = list(map(lambda x: x * x, numbers))\n",
    "print(squares)"
   ]
  },
  {
   "cell_type": "code",
   "execution_count": 14,
   "metadata": {},
   "outputs": [
    {
     "name": "stdout",
     "output_type": "stream",
     "text": [
      "['Hello Dear', 'Hello Sir', 'take Dear', 'take Sir']\n"
     ]
    }
   ],
   "source": [
    "list1 = [\"Hello \", \"take \"]\n",
    "list2 = [\"Dear\", \"Sir\"]\n",
    "out = [i + j for i in list1 for j in list2]\n",
    "# a function to calculate the concatenation\n",
    "def myfunc():\n",
    "    for i in list1:\n",
    "        for j in list2:\n",
    "            out.append(i + j)\n",
    "print(out)"
   ]
  },
  {
   "cell_type": "code",
   "execution_count": null,
   "metadata": {},
   "outputs": [],
   "source": [
    "#iterating  both lists simultaneouly\n",
    "list1 = [10, 20, 30, 40]\n",
    "list2 = [100, 200, 300, 400]\n",
    "for i,j in zip(list1, reversed(list2)):\n",
    "    print(i, j, )\n",
    "    "
   ]
  },
  {
   "cell_type": "code",
   "execution_count": 30,
   "metadata": {},
   "outputs": [
    {
     "name": "stdout",
     "output_type": "stream",
     "text": [
      "['Mike', 'Emma', 'Kelly', 'Brad']\n"
     ]
    }
   ],
   "source": [
    "list1 = [\"Mike\", \"\", \"Emma\", \"Kelly\", \"\", \"Brad\"]\n",
    "def fit(n):\n",
    "    new = []\n",
    "    for i in n:\n",
    "        if not i:\n",
    "            continue\n",
    "        else:\n",
    "            newlist.append(i)\n",
    "newlist =list( filter(None, list1))\n",
    "\n",
    "print(newlist)"
   ]
  },
  {
   "cell_type": "code",
   "execution_count": 12,
   "metadata": {},
   "outputs": [
    {
     "name": "stdout",
     "output_type": "stream",
     "text": [
      "[10, 20, [300, 400, [5000, 6000, 7000], 500], 30, 40]\n"
     ]
    }
   ],
   "source": [
    "list1 = [10, 20, [300, 400, [5000, 6000], 500], 30, 40]\n",
    "# accesing the elements using indexing\n",
    "list1[2][2].append(7000)\n",
    "print(list1)"
   ]
  },
  {
   "cell_type": "code",
   "execution_count": 14,
   "metadata": {},
   "outputs": [
    {
     "name": "stdout",
     "output_type": "stream",
     "text": [
      "['a', 'b', ['c', ['d', 'e', ['f', 'g', 'h', 'i', 'j'], 'k'], 'l'], 'm', 'n']\n"
     ]
    }
   ],
   "source": [
    "list1 = [\"a\", \"b\", [\"c\", [\"d\", \"e\", [\"f\", \"g\"], \"k\"], \"l\"], \"m\", \"n\"]\n",
    "\n",
    "# sub list to add\n",
    "sub_list = [\"h\", \"i\", \"j\"]\n",
    "#concatenating two list using extend method\n",
    "list1[2][1][2].extend(sub_list)\n",
    "print(list1)"
   ]
  },
  {
   "cell_type": "code",
   "execution_count": 15,
   "metadata": {},
   "outputs": [
    {
     "name": "stdout",
     "output_type": "stream",
     "text": [
      "[5, 10, 15, 200, 25, 50, 20]\n"
     ]
    }
   ],
   "source": [
    "list1 = [5, 10, 15, 20, 25, 50, 20]\n",
    "val = list1.index(20)\n",
    "list1[val] = 200\n",
    "print(list1)"
   ]
  },
  {
   "cell_type": "code",
   "execution_count": 24,
   "metadata": {},
   "outputs": [
    {
     "name": "stdout",
     "output_type": "stream",
     "text": [
      "[5, 15, 25, 50]\n"
     ]
    }
   ],
   "source": [
    "list1 = [5, 20, 15, 20, 25, 50, 20]\n",
    "for i in list1:\n",
    "    if 20 in list1:\n",
    "        list1.remove(20)\n",
    "\n",
    "print(list1)"
   ]
  },
  {
   "cell_type": "code",
   "execution_count": 5,
   "metadata": {},
   "outputs": [
    {
     "name": "stdout",
     "output_type": "stream",
     "text": [
      "{'Ten': 10, 'Twenty': 20, 'Thirty': 30}\n"
     ]
    }
   ],
   "source": [
    "# joining two lists into dictionary making one as key and the other as value\n",
    "keys = ['Ten', 'Twenty', 'Thirty']\n",
    "values = [10, 20, 30]\n",
    "dic = {}\n",
    "for key1, valu in zip(keys, values):\n",
    "    dic[key1] = valu\n",
    "print(dic)"
   ]
  },
  {
   "cell_type": "code",
   "execution_count": 6,
   "metadata": {},
   "outputs": [
    {
     "name": "stdout",
     "output_type": "stream",
     "text": [
      "{'Ten': 10, 'Twenty': 20, 'Thirty': 30, 'Fourty': 40, 'Fifty': 50}\n"
     ]
    }
   ],
   "source": [
    "# concatenating two dictionary neglecting duplicates\n",
    "dict1 = {'Ten': 10, 'Twenty': 20, 'Thirty': 30}\n",
    "dict2 = {'Thirty': 30, 'Fourty': 40, 'Fifty': 50}\n",
    "dict3 = {}\n",
    "dict1.update(dict2)\n",
    "print(dict1)"
   ]
  },
  {
   "cell_type": "code",
   "execution_count": 1,
   "metadata": {},
   "outputs": [
    {
     "name": "stdout",
     "output_type": "stream",
     "text": [
      "80\n"
     ]
    }
   ],
   "source": [
    "sampleDict = {\n",
    "    \"class\": {\n",
    "        \"student\": {\n",
    "            \"name\": \"Mike\",\n",
    "            \"marks\": {\n",
    "                \"physics\": 70,\n",
    "                \"history\": 80\n",
    "            }\n",
    "        }\n",
    "    }\n",
    "}\n",
    "#accessing nested dictionary using indexing\n",
    "print(sampleDict['class']['student']['marks']['history'])"
   ]
  },
  {
   "cell_type": "code",
   "execution_count": 4,
   "metadata": {},
   "outputs": [
    {
     "name": "stdout",
     "output_type": "stream",
     "text": [
      "{'designation': 'Developer', 'salary': 8000, ('Kelly', 'Emma'): None}\n"
     ]
    }
   ],
   "source": [
    "employees = ['Kelly', 'Emma']\n",
    "defaults = {\"designation\": 'Developer', \"salary\": 8000}\n",
    "defaults.setdefault(tuple(employees))\n",
    "print(defaults)"
   ]
  },
  {
   "cell_type": "code",
   "execution_count": 1,
   "metadata": {},
   "outputs": [
    {
     "name": "stdout",
     "output_type": "stream",
     "text": [
      "{'name': 'Kelly', 'salary': 8000}\n"
     ]
    }
   ],
   "source": [
    "#extracting keys from a dictionary and adding to a new dictionarys\n",
    "sample_dict = {\n",
    "    'name' : 'Kelly',\n",
    "    'Age' : 25,\n",
    "    'salary' : 8000,\n",
    "    'city' : 'new york'\n",
    "\n",
    "}\n",
    "keys_to_added = ['name', 'salary']\n",
    "new_dict = {}\n",
    "for key1, val in sample_dict.items():\n",
    "    if key1 in keys_to_added:\n",
    "        new_dict[key1] = val\n",
    "print(new_dict)        \n",
    "\n"
   ]
  },
  {
   "cell_type": "code",
   "execution_count": 9,
   "metadata": {},
   "outputs": [
    {
     "name": "stdout",
     "output_type": "stream",
     "text": [
      "{'Age': 25, 'city': 'new york'}\n"
     ]
    }
   ],
   "source": [
    "sample_dict = {\n",
    "    'name' : 'Kelly',\n",
    "    'Age' : 25,\n",
    "    'salary' : 8000,\n",
    "    'city' : 'new york'\n",
    "\n",
    "}\n",
    "keys_to_added = ['name', 'salary']\n",
    "for key2 in list(sample_dict.keys()):\n",
    "    if key2 in keys_to_added:\n",
    "        del sample_dict[key2]\n",
    "print(sample_dict)\n"
   ]
  },
  {
   "cell_type": "code",
   "execution_count": 21,
   "metadata": {},
   "outputs": [
    {
     "name": "stdout",
     "output_type": "stream",
     "text": [
      "Putin      Vladamir   3.63\n",
      "Trump      Donald     7.85\n",
      "Xi         Jinping    10.60\n"
     ]
    }
   ],
   "source": [
    "from collections import namedtuple\n",
    "from operator import itemgetter\n",
    "\n",
    "PEOPLE = [\n",
    "    (\"Donald\", \"Trump\", 7.85),\n",
    "    (\"Vladamir\", \"Putin\", 3.626),\n",
    "    (\"Jinping\", \"Xi\", 10.603)\n",
    "]\n",
    "\n",
    "people = namedtuple(\"people\",(\"Name\", \"L_name\", \"Time\") )\n",
    "people = people(*PEOPLE)\n",
    "\n",
    "\n",
    "#printing PEOPLE in a database format\n",
    "for i in sorted(people, key=itemgetter(1, 0)):\n",
    "    print(f'{i[1]:10} {i[0]:10} {i[2]:.2f}')\n"
   ]
  },
  {
   "cell_type": "code",
   "execution_count": 3,
   "metadata": {},
   "outputs": [
    {
     "name": "stdout",
     "output_type": "stream",
     "text": [
      "sorry we are fresh out of Elephant today\n",
      "Tea costs 7, total is 7\n",
      "Coffee costs 8, total is 15\n",
      "Your total is 15\n"
     ]
    }
   ],
   "source": [
    "MENU = {\n",
    "    \"Sandwich\": 10,\n",
    "    \"Tea\": 7,\n",
    "    \"Coffee\": 8,\n",
    "    \"Juice\": 3\n",
    "}\n",
    "\n",
    "# function to manipulate and search user input\n",
    "def restaurant():\n",
    "    total = 0\n",
    "    while True:\n",
    "        order = input(\"Order: \").capitalize().strip()\n",
    "        \n",
    "        if order in MENU.keys():\n",
    "            total += MENU[order]\n",
    "            print(f'{order} costs {MENU[order]}, total is {total}')\n",
    "            \n",
    "        elif not order:\n",
    "            print(f'Your total is {total}')\n",
    "            break\n",
    "\n",
    "        else:\n",
    "            print(f'sorry we are fresh out of {order} today')\n",
    "            \n",
    "\n",
    "restaurant()"
   ]
  },
  {
   "cell_type": "code",
   "execution_count": 6,
   "metadata": {},
   "outputs": [
    {
     "name": "stdout",
     "output_type": "stream",
     "text": [
      "8992 days old\n"
     ]
    }
   ],
   "source": [
    "import datetime\n",
    "import pytz\n",
    "\n",
    "DATE = {\n",
    "    \"Ahmed\": '2000-10-22',\n",
    "    \"Abdiaziz\": \"2004-03-15\",\n",
    "    \"Ibrahim\": \"1998-01-10\"\n",
    "}\n",
    "\n",
    "\n",
    "def date_retriever():\n",
    "    user = input(\"Name: \").capitalize()\n",
    "    tday = datetime.date.today()\n",
    "    if user in DATE.keys():\n",
    "        bday = datetime.date.fromisoformat(DATE[user])\n",
    "        deff = tday - bday\n",
    "        print(f'{deff.days} days old')\n",
    "    else:\n",
    "        print(f\"That is not a family member\")\n",
    "\n",
    "\n",
    "date_retriever()\n"
   ]
  },
  {
   "cell_type": "code",
   "execution_count": 25,
   "metadata": {},
   "outputs": [
    {
     "name": "stdout",
     "output_type": "stream",
     "text": [
      ".png: 4\n",
      ".ipynb: 2\n",
      ".py: 66\n",
      ": 3\n",
      ".csv: 3\n"
     ]
    }
   ],
   "source": [
    "import os\n",
    "from collections import defaultdict\n",
    "\n",
    "files = os.listdir('/Users/ahmedabukar/Desktop/productivity_files/python/python_exercises')\n",
    "#print(files)\n",
    "dir = defaultdict(int)\n",
    "for i in files:\n",
    "    root, ext = os.path.splitext(i)\n",
    "    dir[ext] += 1\n",
    "\n",
    "for i, j in dir.items():\n",
    "    print(f'{i}: {j}')"
   ]
  },
  {
   "cell_type": "code",
   "execution_count": 29,
   "metadata": {},
   "outputs": [
    {
     "name": "stdout",
     "output_type": "stream",
     "text": [
      "Special,$18.50,$26.95\n"
     ]
    }
   ],
   "source": [
    "def get_final_line(f):\n",
    "    with open(f, 'r') as file:\n",
    "        fp = file.readlines()\n",
    "        print(fp[-1])\n",
    "\n",
    "get_final_line('regular.csv')"
   ]
  },
  {
   "cell_type": "code",
   "execution_count": null,
   "metadata": {},
   "outputs": [],
   "source": [
    "\n",
    "with open('after.csv', 'r') as fp:\n",
    "    file = fp.read()\n",
    "    di = defaultdict(int)\n",
    "    for i in file:\n",
    "        di[i] += 1\n",
    "\n",
    "for i, j in di.items():\n",
    "    print(f'{i}: {j}')\n",
    "        "
   ]
  },
  {
   "cell_type": "code",
   "execution_count": 9,
   "metadata": {},
   "outputs": [
    {
     "name": "stdout",
     "output_type": "stream",
     "text": [
      "{'/usr/bin/false\\n': 239, '/bin/sh\\n': 0, '/usr/sbin/uucico\\n': 4}\n"
     ]
    }
   ],
   "source": [
    "from collections import defaultdict\n",
    "\n",
    "def password_dict(f):\n",
    "    users = {}\n",
    "    with open(f) as file:\n",
    "        for line in file:\n",
    "            if not line.startswith((\"#\", \"\\n\")):\n",
    "                user_info = line.split(\":\")\n",
    "                users[user_info[0]] = int(user_info[2])\n",
    "    return users\n",
    "\n",
    "print(password_dict('passwd.txt'))"
   ]
  },
  {
   "cell_type": "code",
   "execution_count": null,
   "metadata": {},
   "outputs": [],
   "source": [
    "from collections import defaultdict\n",
    "\n",
    "def passwoe(f):\n",
    "    users = defaultdict(list)\n",
    "    with open(f) as file:\n",
    "        for line in file:\n",
    "            if not line.startswith((\"#\", \"\\n\")):\n",
    "                user_info = line.split(\":\")\n",
    "                users[user_info[-1]] += user_info[2]\n",
    "\n",
    "    return users\n",
    "\n",
    "print(passwoe(\"passwd.txt\"))"
   ]
  },
  {
   "cell_type": "code",
   "execution_count": 33,
   "metadata": {},
   "outputs": [
    {
     "name": "stdout",
     "output_type": "stream",
     "text": [
      "characters: 5633\n",
      "words: 243\n",
      "lines: 86\n",
      "unique_words: 181\n"
     ]
    }
   ],
   "source": [
    "def wordcount(f):\n",
    "    counts = {\n",
    "        \"characters\": 0,\n",
    "        \"words\": 0,\n",
    "        \"lines\": 0,\n",
    "        \"unique_words\": set()\n",
    "    }\n",
    "\n",
    "    with open(f) as fp:\n",
    "        for line in fp:\n",
    "            counts[\"lines\"] += 1\n",
    "            counts[\"characters\"] += len(line)\n",
    "            counts['words'] += len(line.split())\n",
    "            counts[\"unique_words\"].update(line.split())\n",
    "    \n",
    "    counts[\"unique_words\"] = len(counts[\"unique_words\"])\n",
    "\n",
    "    for i, j in counts.items():\n",
    "        print(f'{i}: {j}')\n",
    "\n",
    "wordcount(\"passwd.txt\")\n"
   ]
  },
  {
   "cell_type": "code",
   "execution_count": 13,
   "metadata": {},
   "outputs": [
    {
     "data": {
      "text/plain": [
       "[('\\n', 15622),\n",
       " ('       *       *       *       *       *\\n', 131),\n",
       " (\"_Dr. Seward's Diary._\\n\", 25),\n",
       " ('This eBook is for the use of anyone anywhere at no cost and with\\n', 16),\n",
       " ('re-use it under the terms of the Project Gutenberg License included\\n', 16)]"
      ]
     },
     "execution_count": 13,
     "metadata": {},
     "output_type": "execute_result"
    }
   ],
   "source": [
    "from collections import Counter\n",
    "\n",
    "\n",
    "def word_frequency(directory):\n",
    "    dict = {}\n",
    "    for i in os.listdir(directory):\n",
    "        k = os.path.join(directory, i)\n",
    "        for j in open(k):\n",
    "            j.lower()\n",
    "            if j not in dict.keys():\n",
    "                dict[j] = 1\n",
    "            else: dict[j] += 1\n",
    "    return Counter(dict).most_common(5)\n",
    "\n",
    "\n",
    "word_frequency('/Users/ahmedabukar/Desktop/productivity_files/python/python_exercises/books')    "
   ]
  },
  {
   "cell_type": "code",
   "execution_count": 18,
   "metadata": {},
   "outputs": [
    {
     "name": "stdout",
     "output_type": "stream",
     "text": [
      "xa.txt: http://www.gutenberg.org/4/43/\n",
      "lala.txt: http://www.gutenberg.org/8/84/\n",
      "fafa.txt: http://www.gutenberg.org/6/1/1/0/61105/\n",
      "p.txt: http://www.gutenberg.org/2/5/5/2/25525/\n",
      "dala.txt: http://www.gutenberg.net/4/46/\n",
      "pg28860.txt: http://www.gutenberg.org/2/8/8/6/28860/\n",
      "pg.txt: two-pages-to-the-week-with-Sunday-squeezed-in-a-corner\n",
      "Paaa.txt: _________________________________________________\n",
      "alph.txt: http://www.gutenberg.org/1/3/4/1342/\n",
      "pa.txt: http://www.gutenberg.org/2/7/0/2701/\n"
     ]
    }
   ],
   "source": [
    "import os\n",
    "import pathlib\n",
    "\n",
    "def find_longest_word(f):\n",
    "    longest_word = ''\n",
    "    for one_line in open(f):\n",
    "        for one_word in one_line.split():\n",
    "            if len(one_word) > len(longest_word):\n",
    "                longest_word = one_word\n",
    "    return longest_word\n",
    "\n",
    "#function to find the longest word in files of a directory\n",
    "def find_longest_words(dir):\n",
    "    path = pathlib.Path(dir)\n",
    "    return {filename: find_longest_word(filename) for filename in path.iterdir() if pathlib.Path.is_file(filename)}\n",
    "\n",
    "longwords = find_longest_words('/Users/ahmedabukar/Desktop/productivity_files/python/python_exercises/books')\n",
    "for i, j in longwords.items():\n",
    "    print(f'{i.name}: {j}')       "
   ]
  },
  {
   "cell_type": "code",
   "execution_count": 16,
   "metadata": {},
   "outputs": [
    {
     "name": "stdout",
     "output_type": "stream",
     "text": [
      "xa.txt: 8ff3e7e6e7d90757f0d6e104f935e699\n",
      "lala.txt: b1fbb17a9bb55b281b093d52288929e3\n",
      "fafa.txt: 6f58595de6dfc5ea028d3a7e7d58dd8c\n",
      "p.txt: d2c79c8519af858fac2993c2373b5203\n",
      "dala.txt: c7af74c086d0a1e574fc01b30648fed6\n",
      "pg28860.txt: 4320d980f5e09a9f9f52c436133af348\n",
      "pg.txt: fccd3f96d461f495a3bef31dc1d28f01\n",
      "Paaa.txt: c760e4ce8b0df76afff5f3bb8cbeffdc\n",
      "alph.txt: f2a0ed528faf3b47e39dbbfb94cb01d1\n",
      "pa.txt: b0ad726bfecf30285632a619e0bf2763\n"
     ]
    }
   ],
   "source": [
    "from hashlib import  md5\n",
    "import os\n",
    "import pathlib\n",
    "\n",
    "# function to converts the contents of a file into a hash\n",
    "def hahlibs_for_contents(f):\n",
    "    md51 = md5()\n",
    "    fname = open(f, 'rb')\n",
    "    while chunk := fname.read():\n",
    "        md51.update(chunk)\n",
    "\n",
    "    return md51.hexdigest()\n",
    "\n",
    "# converts the files in directory into hashs\n",
    "def hash_libs_in_dir(dirname):\n",
    "    p = pathlib.Path(dirname)\n",
    "    return {fname: hahlibs_for_contents(fname) for fname in p.iterdir()}\n",
    "\n",
    "\n",
    "hashs = hash_libs_in_dir('/Users/ahmedabukar/Desktop/productivity_files/python/python_exercises/books')\n",
    "for i, j in hashs.items():\n",
    "    print(f'{i.name:.11}: {j}')"
   ]
  },
  {
   "cell_type": "code",
   "execution_count": 32,
   "metadata": {},
   "outputs": [
    {
     "name": "stdout",
     "output_type": "stream",
     "text": [
      "file name xa.txt: data modified 27/08/2022\n",
      "file name lala.txt: data modified 06/01/2020\n",
      "file name fafa.txt: data modified 06/01/2020\n",
      "file name p.txt: data modified 06/01/2020\n",
      "file name dala.txt: data modified 06/01/2020\n",
      "file name pg28860.tx: data modified 06/01/2020\n",
      "file name pg.txt: data modified 06/01/2020\n",
      "file name Paaa.txt: data modified 06/01/2020\n",
      "file name alph.txt: data modified 06/01/2020\n",
      "file name pa.txt: data modified 06/01/2020\n"
     ]
    }
   ],
   "source": [
    "import imp\n",
    "import arrow\n",
    "import os\n",
    "import pathlib\n",
    "\n",
    "def files_states(dirname):\n",
    "    dict = {}\n",
    "    p = pathlib.Path(dirname)\n",
    "    for i in p.iterdir():\n",
    "        file = os.stat(i)\n",
    "        \n",
    "        date = arrow.get(file.st_mtime)\n",
    "        dict[i] = date.format(\"DD/MM/YYYY\")\n",
    "    return dict\n",
    "\n",
    "data = files_states('/Users/ahmedabukar/Desktop/productivity_files/python/python_exercises/books')\n",
    "for i, j in data.items():\n",
    "    print(f'file name {i.name:.10}: data modified {j}')"
   ]
  },
  {
   "cell_type": "code",
   "execution_count": 3,
   "metadata": {},
   "outputs": [],
   "source": [
    "import csv\n",
    "\n",
    "# read and write by filtering the readfile \n",
    "def passwd_to_csv(read_file, write_file):\n",
    "    with open(read_file, 'r') as csvfile:\n",
    "        read = csv.reader(csvfile, delimiter=':')\n",
    "\n",
    "        with open(write_file, 'w') as csvwriter:\n",
    "            writer = csv.writer(csvwriter, delimiter=\"\\t\")\n",
    "            \n",
    "            for readline in read:\n",
    "                if not readline[0].startswith('#'):\n",
    "                    writer.writerow((readline[0], readline[0]))\n",
    "\n",
    "passwd_to_csv('/Users/ahmedabukar/Desktop/productivity_files/python/python_exercises/passwd.txt', '/Users/ahmedabukar/Desktop/productivity_files/python/python_exercises/write.csv')"
   ]
  },
  {
   "cell_type": "code",
   "execution_count": 38,
   "metadata": {},
   "outputs": [
    {
     "name": "stdout",
     "output_type": "stream",
     "text": [
      "first line: Sum 514.0 average 51.4\n",
      "first line: Sum 657.0 average 65.7\n",
      "first line: Sum 551.0 average 55.1\n",
      "first line: Sum 580.0 average 58.0\n",
      "first line: Sum 470.0 average 47.0\n",
      "first line: Sum 426.0 average 42.6\n",
      "first line: Sum 524.0 average 52.4\n",
      "first line: Sum 719.0 average 71.9\n",
      "first line: Sum 523.0 average 52.3\n",
      "first line: Sum 796.0 average 79.6\n"
     ]
    }
   ],
   "source": [
    "import csv\n",
    "import random\n",
    "\n",
    "def csv_file_manipulation(file):\n",
    "    with open(file, 'w')as csv_file:\n",
    "        writer = csv.writer(csv_file, delimiter=' ')\n",
    "        for i in range(1, 11):\n",
    "            list = []\n",
    "            for j in range(1, 11):\n",
    "                list.append(random.randint(10, 100))\n",
    "            writer.writerow(list)\n",
    "    with open(file, 'r') as csv_read:\n",
    "        reader = csv.reader(csv_read, quoting=csv.QUOTE_NONNUMERIC, delimiter=\" \")\n",
    "        for readline in reader:\n",
    "            sum1 = sum(readline)\n",
    "            average = sum1 / len(readline)\n",
    "            print(f'first line: Sum {sum1} average {average}')\n",
    "\n",
    "\n",
    "csv_file_manipulation('/Users/ahmedabukar/Desktop/productivity_files/python/python_exercises/csv_manipulation.csv')"
   ]
  },
  {
   "cell_type": "code",
   "execution_count": 42,
   "metadata": {},
   "outputs": [],
   "source": [
    "import csv\n",
    "\n",
    "def dict_to_csvfile(file_path):\n",
    "    dict = {'gallons': 100, 'sickles': 50, 'knuts': 25}\n",
    "    with open(file_path, 'w') as csv_file:\n",
    "        write = csv.writer(csv_file, delimiter=' ')\n",
    "\n",
    "        for i, j in dict.items():\n",
    "            write.writerow((i, j, type(j).__name__))\n",
    "\n",
    "dict_to_csvfile('/Users/ahmedabukar/Desktop/productivity_files/python/python_exercises/type_csv.csv')"
   ]
  },
  {
   "cell_type": "code",
   "execution_count": 62,
   "metadata": {},
   "outputs": [],
   "source": [
    "import csv\n",
    "import json\n",
    "\n",
    "\n",
    "def csv_to_json(csv_file, json_file):\n",
    "    dic = {}\n",
    "\n",
    "    with open(csv_file, 'r') as csvfile:\n",
    "        dictread = csv.DictReader(csvfile)\n",
    "\n",
    "        for reader in dictread:\n",
    "            key = reader['##']\n",
    "            dic[key] = tuple(reader)\n",
    "        \n",
    "    with open(json_file, 'w') as json_file1:\n",
    "        json.dump(dic, json_file1, sort_keys=True, indent=4)\n",
    "\n",
    "\n",
    "csv_to_json('passwd.txt', 'json_file.json')"
   ]
  },
  {
   "cell_type": "code",
   "execution_count": 18,
   "metadata": {},
   "outputs": [
    {
     "name": "stdout",
     "output_type": "stream",
     "text": [
      "08:22:48.941877\n"
     ]
    }
   ],
   "source": [
    "import json\n",
    "from pathlib import Path\n",
    "import datetime\n",
    "\n",
    "# function to output folder data into a file\n",
    "def folder_info(directory_name, write_file):\n",
    "    p = Path(directory_name)\n",
    "\n",
    "    list = {}\n",
    "    for i in p.iterdir():\n",
    "        if i.is_file():\n",
    "            file_info = i.stat()\n",
    "            list[i.name] = (file_info.st_size, file_info.st_mtime)\n",
    "    with open(write_file, 'w') as fp:\n",
    "        json.dump(list, fp, indent=4)\n",
    "\n",
    "    with open(write_file, 'r') as f:\n",
    "        data = json.load(f)\n",
    "        \n",
    "        most_modified = 0\n",
    "        least_modified = 0\n",
    "        largest_size = 0\n",
    "        smallest_size = 0\n",
    "        for i, j in data.items():\n",
    "            smallest_size = j[0]\n",
    "            least_modified = j[1]\n",
    "            if j[0] > largest_size:\n",
    "                largest_size = j[0]\n",
    "            elif j[0] < smallest_size:\n",
    "                smallest_size = j[0]\n",
    "            if j[1] > most_modified:\n",
    "                most_modified = j[1]\n",
    "            elif j[1] < least_modified:\n",
    "                least_modified = j[1]\n",
    "    return (most_modified, least_modified, largest_size, smallest_size)\n",
    "\n",
    "# outputing files that last modified and largest size files\n",
    "file_data = folder_info(\"/Users/ahmedabukar/Desktop/productivity_files/python/python_exercises\", 'json1.json')\n",
    "\n",
    "print(datetime.datetime.fromtimestamp(file_data[0]).time())"
   ]
  },
  {
   "cell_type": "code",
   "execution_count": 28,
   "metadata": {},
   "outputs": [],
   "source": [
    "def reverse_lines(read_file, write_file):\n",
    "    \"\"\"reverse lines from one file to another\"\"\"\n",
    "    with open(read_file, 'r') as fp, open(write_file, 'w') as f:\n",
    "        for readline in fp:\n",
    "            readline = readline.rstrip()\n",
    "            f.write(f'{readline[::-1]}\\n')\n",
    "\n",
    "reverse_lines('passwd.txt','reversed_file.txt')\n",
    "            \n",
    "            "
   ]
  },
  {
   "cell_type": "code",
   "execution_count": null,
   "metadata": {},
   "outputs": [],
   "source": [
    "import pathlib\n",
    "\n",
    "\n",
    "def print_file_sizes(dir):\n",
    "    \"\"\"Print file sizes in a directory, recurse into subdirs.\"\"\"\n",
    "    \n",
    "    paths_to_process = [dir]\n",
    "    while paths_to_process:\n",
    "        path, *paths_to_process = paths_to_process\n",
    "        path_obj = pathlib.Path(path)\n",
    "        if path_obj.is_file():\n",
    "            print(path, path_obj.stat().st_size)\n",
    "        else:\n",
    "            paths_to_process += path_obj.glob(\"*\")\n",
    "\n",
    "print_file_sizes('/Users/ahmedabukar/Desktop/productivity_files/python')"
   ]
  },
  {
   "cell_type": "code",
   "execution_count": null,
   "metadata": {},
   "outputs": [],
   "source": [
    "import pathlib\n",
    "def print_file_sizes(path):\n",
    "    \"\"\"Print file sizes in a directory.\"\"\"\n",
    "    path_obj = pathlib.Path(path)\n",
    "    if path_obj.is_file():\n",
    "        print(path, path_obj.stat().st_size)\n",
    "    else:\n",
    "        for path in path_obj.glob(\"*\"):\n",
    "            print_file_sizes(path)\n",
    "\n",
    "print_file_sizes('/Users/ahmedabukar/Desktop/productivity_files/python')"
   ]
  },
  {
   "cell_type": "code",
   "execution_count": 53,
   "metadata": {},
   "outputs": [],
   "source": [
    "def encrypt_decrypt(file, file1):\n",
    "    \"\"\"Ecrypt a file as well as decrypt it\"\"\"\n",
    "    with open(file, 'r') as fp, open(file1, 'w') as f:\n",
    "        for line in fp:\n",
    "            for chr2 in line:\n",
    "                f.write(str(ord(chr2)))\n",
    "    with open(file1, 'r') as fi, open(file1, 'w') as fd:\n",
    "        for one_line in fi:\n",
    "            for num in one_line:\n",
    "                fd.write(chr(num))\n",
    "\n",
    "\n",
    "\n",
    "encrypt_decrypt('passwd.txt', 'ecrypted_file.txt')"
   ]
  },
  {
   "cell_type": "code",
   "execution_count": 62,
   "metadata": {},
   "outputs": [],
   "source": [
    "def filter_file(input_file, output1_file, output_file2):\n",
    "    \"\"\" filter the input file by sorting it into vowels and consonants and output \n",
    "    it two different files \"\"\"\n",
    "    \n",
    "    with open(input_file, 'r') as input1, open(output1_file, 'w') as output1, open(output_file2, 'w') as output2:\n",
    "        for one_line in input1:\n",
    "            for letters in one_line:\n",
    "                if letters.isalpha():\n",
    "                    if letters.lower() in 'aeiou':\n",
    "                        output1.write(letters)\n",
    "                    elif letters.isalpha():\n",
    "                        output2.write(letters)\n",
    "            \n",
    "            output1.write('\\n')\n",
    "            output2.write('\\n')\n",
    "\n",
    "\n",
    "filter_file('passwd.txt', 'output1.txt', 'output2.txt')    "
   ]
  },
  {
   "cell_type": "code",
   "execution_count": 26,
   "metadata": {},
   "outputs": [],
   "source": [
    "from collections import defaultdict\n",
    "\n",
    "\n",
    "def passwd_file(input_file, output_file):\n",
    "    ''' a function that is used to format a contents of text file'''\n",
    "    with open(input_file, 'r') as fp, open(output_file, 'w+') as f:\n",
    "        dict = defaultdict(list)\n",
    "        for one_line in fp:\n",
    "            if not one_line.startswith('#'):\n",
    "                line = one_line.split(':')\n",
    "                dict[line[-1]].append(line[0]) \n",
    "        \n",
    "        for i,j in dict.items():\n",
    "            f.write(f'{i}:{j}\\n')\n",
    "        \n",
    "passwd_file('passwd.txt', 'shell.txt')"
   ]
  },
  {
   "cell_type": "code",
   "execution_count": 35,
   "metadata": {},
   "outputs": [
    {
     "data": {
      "text/plain": [
       "'<foo a=\"1\" b=\"2\" > bar </foo'"
      ]
     },
     "execution_count": 35,
     "metadata": {},
     "output_type": "execute_result"
    }
   ],
   "source": [
    "def myxml(tagname, content='', **kwarg):\n",
    "    ''' A function that is used to generate xml code'''\n",
    "   \n",
    "    atrrs = ''.join([f'{key}=\"{value}\" ' for key, value in kwarg.items()])\n",
    "    return f'<{tagname} {atrrs}> {content} </{tagname}'\n",
    "\n",
    "myxml('foo', 'bar', a=1, b=2)\n",
    "    "
   ]
  },
  {
   "cell_type": "code",
   "execution_count": 40,
   "metadata": {},
   "outputs": [],
   "source": [
    "def copyfile(*arg):\n",
    "    \"\"\" copy the content of file1 to the other files\"\"\"\n",
    "    with open(arg[0], 'r') as read:\n",
    "        reader = read.read()\n",
    "        for i in arg[1:]:\n",
    "            with open(i, 'w') as fp:\n",
    "                fp.write(reader)\n",
    "                    \n",
    "\n",
    "\n",
    "copyfile('passwd.txt', 'copy1.txt', 'copy2.txt')"
   ]
  },
  {
   "cell_type": "code",
   "execution_count": 49,
   "metadata": {},
   "outputs": [
    {
     "data": {
      "text/plain": [
       "120"
      ]
     },
     "execution_count": 49,
     "metadata": {},
     "output_type": "execute_result"
    }
   ],
   "source": [
    "def factorial(*arg):\n",
    "    \"\"\" a function that multiplies the numbers by each other\"\"\"\n",
    "    result = arg[0]\n",
    "    for i in arg[1:]:\n",
    "        result *= i \n",
    "    return result\n",
    "\n",
    "factorial(2, 3, 4, 5)"
   ]
  },
  {
   "cell_type": "code",
   "execution_count": 72,
   "metadata": {},
   "outputs": [
    {
     "name": "stdout",
     "output_type": "stream",
     "text": [
      "a**b**c\n"
     ]
    }
   ],
   "source": [
    "def anyjoin(seq, sep=' '):\n",
    "    cout = seq[0]\n",
    "    for i in seq[1:]:\n",
    "        cout = f'{cout}{sep}{i}'\n",
    "    return cout\n",
    "\n",
    "print(anyjoin('abc', sep='**'))"
   ]
  },
  {
   "cell_type": "code",
   "execution_count": 8,
   "metadata": {},
   "outputs": [
    {
     "name": "stdout",
     "output_type": "stream",
     "text": [
      "3\n"
     ]
    }
   ],
   "source": [
    "import operator\n",
    "\n",
    "def calc(expression):\n",
    "    operations = {\n",
    "        '+': operator.add,\n",
    "        \"*\": operator.mul,\n",
    "        \"/\": operator.truediv,\n",
    "        \"%\": operator.mod,\n",
    "        \"-\": operator.sub,\n",
    "        '**': operator.pow\n",
    "    }\n",
    "    op,first, second = expression.split()\n",
    "    return operations[op](int(first), int(second))\n",
    "\n",
    "print(calc('+ 1 2'))"
   ]
  },
  {
   "cell_type": "code",
   "execution_count": 12,
   "metadata": {},
   "outputs": [
    {
     "data": {
      "text/plain": [
       "[2, 4, 6]"
      ]
     },
     "execution_count": 12,
     "metadata": {},
     "output_type": "execute_result"
    }
   ],
   "source": [
    "def maplike(func, *iterables):\n",
    "    \"\"\" A function the works in similar version like map function\"\"\"\n",
    "    list = []\n",
    "    for i in iterables:\n",
    "        list.append(func(i))\n",
    "    return list\n",
    "\n",
    "\n",
    "def func(y):\n",
    "    return y + y\n",
    "\n",
    "\n",
    "maplike(func, 1, 2, 3)"
   ]
  },
  {
   "cell_type": "code",
   "execution_count": 38,
   "metadata": {},
   "outputs": [],
   "source": [
    "def transform_lines(func, input_file, output_file):\n",
    "    with open(input_file, 'r') as fp, open(output_file, 'w') as f:\n",
    "        f.write(func(fp))\n",
    "\n",
    "\n",
    "def func(file):\n",
    "   f = file.read()\n",
    "   return f\n",
    "\n",
    "transform_lines(func, 'passwd.txt', 'transform.txt')"
   ]
  },
  {
   "cell_type": "code",
   "execution_count": 44,
   "metadata": {},
   "outputs": [
    {
     "name": "stdout",
     "output_type": "stream",
     "text": [
      "cfddbfebbc\n",
      "daaaa\n",
      "%^##^!^%%%\n",
      "##^%###%\n"
     ]
    }
   ],
   "source": [
    "import random\n",
    "\n",
    "def create_password_generator(st):\n",
    "    \"\"\"function the generates a password\"\"\"\n",
    "    def create_password(n):\n",
    "        \"\"\"It creates a password of length of n\"\"\"\n",
    "        key = ''\n",
    "        for _ in range(n):\n",
    "            key = key + random.choice(st)\n",
    "        return key\n",
    "    return create_password\n",
    "\n",
    "\n",
    "alpha_password = create_password_generator('abcdef')\n",
    "symbol_password = create_password_generator('!#%#^')\n",
    "\n",
    "print(alpha_password(10))\n",
    "print(alpha_password(5))\n",
    "print(symbol_password(10))\n",
    "print(symbol_password(8))"
   ]
  },
  {
   "cell_type": "code",
   "execution_count": 53,
   "metadata": {},
   "outputs": [
    {
     "data": {
      "text/plain": [
       "'valid'"
      ]
     },
     "execution_count": 53,
     "metadata": {},
     "output_type": "execute_result"
    }
   ],
   "source": [
    "\n",
    "def create_passwrd_checker(min_lowercase, min_uppercase, min_digits, min_punctuation):\n",
    "    def checker(st):\n",
    "        lower = []\n",
    "        upper = []\n",
    "        digits = []\n",
    "        punctuation = []\n",
    "        for i in st:\n",
    "            if i.islower():\n",
    "                lower.append(i)\n",
    "            elif i.isupper():\n",
    "                upper.append(i)\n",
    "            elif i.isdigit():\n",
    "                digits.append(i)\n",
    "            else:\n",
    "                punctuation.append(i)\n",
    "        if min_lowercase == len(lower) and min_uppercase == len(upper) and min_digits == len(digits) and min_punctuation == len(punctuation):\n",
    "            return f'valid'\n",
    "        else:\n",
    "            return f'invalid password'\n",
    "    \n",
    "    return checker\n",
    "\n",
    "\n",
    "check = create_passwrd_checker(5, 5, 4,4)\n",
    "check('!!!/3432adassASDFA')"
   ]
  },
  {
   "cell_type": "code",
   "execution_count": 54,
   "metadata": {},
   "outputs": [
    {
     "data": {
      "text/plain": [
       "1"
      ]
     },
     "execution_count": 54,
     "metadata": {},
     "output_type": "execute_result"
    }
   ],
   "source": [
    "def getitem(index):\n",
    "    \"\"\"a similar function like that of a itemgetter but does works with only \n",
    "    data structures whose elements can only be fetched through parenthesis\"\"\"\n",
    "    def itemget(seq):\n",
    "        for i in seq:\n",
    "            if i == index:\n",
    "                return seq[i]\n",
    "            else:\n",
    "                continue\n",
    "    return itemget\n",
    "\n",
    "f = getitem('a')\n",
    "f({'a': 1, 'b':2})"
   ]
  },
  {
   "cell_type": "code",
   "execution_count": 11,
   "metadata": {},
   "outputs": [
    {
     "name": "stdout",
     "output_type": "stream",
     "text": [
      "0, 1, 2, 3, 4, 5, 6, 7, 8, 9, 10, 11, 12, 13, 14\n"
     ]
    }
   ],
   "source": [
    "def join_numbers(numbers):\n",
    "    \"\"\"This function uses list comprehension\"\"\"\n",
    "    list = [str(x) for x in numbers]\n",
    "    return ', '.join(list)\n",
    "\n",
    "print(join_numbers(range(15)))"
   ]
  },
  {
   "cell_type": "code",
   "execution_count": 18,
   "metadata": {},
   "outputs": [
    {
     "name": "stdout",
     "output_type": "stream",
     "text": [
      "0, 1, 2, 3, 4, 5, 6, 7, 8, 9, 10, 11, 12, 13, 14\n"
     ]
    }
   ],
   "source": [
    "def join_numbers1():\n",
    "    '''This function uses generator expression that just looks like list \n",
    "    comprehensio'''\n",
    "    return ', '.join(str(x) for x in range(15))\n",
    "\n",
    "print(join_numbers1())"
   ]
  },
  {
   "cell_type": "code",
   "execution_count": 25,
   "metadata": {},
   "outputs": [
    {
     "data": {
      "text/plain": [
       "<generator object reverse_words.<locals>.<genexpr> at 0x7ff446444120>"
      ]
     },
     "execution_count": 25,
     "metadata": {},
     "output_type": "execute_result"
    }
   ],
   "source": [
    "def reverse_words(input_file):\n",
    "    list = [one_line[::-1] for one_line in open(input_file, 'r')]\n",
    "    return list\n",
    "reverse_words('passwd.txt')"
   ]
  },
  {
   "cell_type": "code",
   "execution_count": 26,
   "metadata": {},
   "outputs": [
    {
     "data": {
      "text/plain": [
       "['1', '3', '4', '4', '6']"
      ]
     },
     "execution_count": 26,
     "metadata": {},
     "output_type": "execute_result"
    }
   ],
   "source": [
    "def turn_intergers_to_strings(list):\n",
    "    formated_list = [str(i) for i in list if 10>i>0]\n",
    "    return formated_list\n",
    "\n",
    "turn_intergers_to_strings([1, 22, 3, 4, 4, 6, 11])"
   ]
  },
  {
   "cell_type": "code",
   "execution_count": 3,
   "metadata": {},
   "outputs": [
    {
     "data": {
      "text/plain": [
       "112"
      ]
     },
     "execution_count": 3,
     "metadata": {},
     "output_type": "execute_result"
    }
   ],
   "source": [
    "def sum_hex_numbers(str):\n",
    "    \"\"\" convert hexidecimal numbers to numbers and sum\"\"\"\n",
    "    list = [int(x, 16) + int(x, 16) for x in str]\n",
    "    return sum(list)\n",
    "\n",
    "sum_hex_numbers('beef101')"
   ]
  },
  {
   "cell_type": "code",
   "execution_count": 1,
   "metadata": {},
   "outputs": [
    {
     "data": {
      "text/plain": [
       "[1, 2, 3, 4]"
      ]
     },
     "execution_count": 1,
     "metadata": {},
     "output_type": "execute_result"
    }
   ],
   "source": [
    "def flatten_list(list):\n",
    "    return [x for y in list \n",
    "    for x in y]\n",
    "\n",
    "flatten_list([[1, 2], [3, 4]])"
   ]
  },
  {
   "cell_type": "code",
   "execution_count": 28,
   "metadata": {},
   "outputs": [
    {
     "data": {
      "text/plain": [
       "[1, 3]"
      ]
     },
     "execution_count": 28,
     "metadata": {},
     "output_type": "execute_result"
    }
   ],
   "source": [
    "def flatten_list2(list):\n",
    "    return [x for y in list for x in y if isinstance(x, int) if x % 2 != 0 ]\n",
    "\n",
    "flatten_list2([[1, 2], [3, 4, '3']])"
   ]
  },
  {
   "cell_type": "code",
   "execution_count": 31,
   "metadata": {},
   "outputs": [
    {
     "data": {
      "text/plain": [
       "['B', 'C', 'D', 'F', 'G']"
      ]
     },
     "execution_count": 31,
     "metadata": {},
     "output_type": "execute_result"
    }
   ],
   "source": [
    "def grandchildren_names(dict):\n",
    "    return [names for siblings,children in dict.items() \n",
    "    for names in children]\n",
    "\n",
    "grandchildren_names({'A':['B', 'C', 'D'], 'E':['F', 'G']})"
   ]
  },
  {
   "cell_type": "code",
   "execution_count": null,
   "metadata": {},
   "outputs": [],
   "source": [
    "# translating  latin words\n",
    "def pig_latin(word):\n",
    "   \n",
    "    if word[0] in \"aeiou\":\n",
    "        word = word + \"way\"\n",
    "        return word\n",
    "    else:\n",
    "        word = word[1:] + word[0] + \"ay\"\n",
    "        return word\n",
    "\n",
    "\n",
    "def p1_latin(file_name):\n",
    "    return ''.join(pig_latin(word) for line in open(file_name) for word in line.split())\n",
    "\n",
    "\n",
    "p1_latin('passwd.txt')"
   ]
  },
  {
   "cell_type": "code",
   "execution_count": 43,
   "metadata": {},
   "outputs": [
    {
     "data": {
      "text/plain": [
       "[('a', 1), ('a', 1), ('b', 3), ('c', 4)]"
      ]
     },
     "execution_count": 43,
     "metadata": {},
     "output_type": "execute_result"
    }
   ],
   "source": [
    "list_dict = [\n",
    "    {'a': 1},\n",
    "    {'a': 1},\n",
    "    {'b': 3},\n",
    "    {'c': 4}\n",
    "]\n",
    "\n",
    "def list_tuple(n):\n",
    "    return [(x,k) for y in n for x, k in y.items()]\n",
    "\n",
    "list_tuple(list_dict)"
   ]
  },
  {
   "cell_type": "code",
   "execution_count": 45,
   "metadata": {},
   "outputs": [
    {
     "data": {
      "text/plain": [
       "{1: 'a', 2: 'b', 3: 'c'}"
      ]
     },
     "execution_count": 45,
     "metadata": {},
     "output_type": "execute_result"
    }
   ],
   "source": [
    "d = {'a':1, 'b':2, 'c':3}\n",
    "\n",
    "def flip_dict(d):\n",
    "    \"\"\"is a function that flips dictionary keys and values\"\"\"\n",
    "    return {x: y for y, x in d.items()}\n",
    "\n",
    "flip_dict(d)"
   ]
  },
  {
   "cell_type": "code",
   "execution_count": 10,
   "metadata": {},
   "outputs": [
    {
     "data": {
      "text/plain": [
       "[('reading', 3), ('playing fotball', 2), ('writing', 1)]"
      ]
     },
     "execution_count": 10,
     "metadata": {},
     "output_type": "execute_result"
    }
   ],
   "source": [
    "from collections import Counter\n",
    "\n",
    "def list_of_dict(ld):\n",
    "    list = [values for dict in ld for keys,values in dict.items()]\n",
    "    return Counter(list).most_common(3)\n",
    "\n",
    "list_of_dic = [\n",
    "    {'a': 'playing fotball', 'b': 'reading'},\n",
    "    {'c': 'reading', 'd': 'reading'},\n",
    "    {'e': 'writing', 'f': 'playing fotball'}\n",
    "]\n",
    "\n",
    "list_of_dict(list_of_dic)"
   ]
  },
  {
   "cell_type": "code",
   "execution_count": 13,
   "metadata": {},
   "outputs": [
    {
     "data": {
      "text/plain": [
       "{'a': 1, 'b': 4, 'c': 9}"
      ]
     },
     "execution_count": 13,
     "metadata": {},
     "output_type": "execute_result"
    }
   ],
   "source": [
    "def transform_values(func, iterable):\n",
    "    return {key: func(value) for key, value in iterable.items()}\n",
    "\n",
    "def func(x):\n",
    "    return x * x\n",
    "\n",
    "transform_values(func, {'a':1, 'b':2, 'c':3})"
   ]
  },
  {
   "cell_type": "code",
   "execution_count": 16,
   "metadata": {},
   "outputs": [
    {
     "data": {
      "text/plain": [
       "{'a': 1, 'b': 4}"
      ]
     },
     "execution_count": 16,
     "metadata": {},
     "output_type": "execute_result"
    }
   ],
   "source": [
    "def transform_values2(func1, func2, iterable):\n",
    "    return {key: func1(value) for key, value in iterable.items() if func2(key, value)}\n",
    "\n",
    "def func(key, value):\n",
    "    if key and value <= 2:\n",
    "        return True\n",
    "    else:\n",
    "        return False\n",
    "\n",
    "transform_values2(lambda x: x * x, func, {'a':1, 'b':2, 'c':3})\n"
   ]
  },
  {
   "cell_type": "code",
   "execution_count": null,
   "metadata": {},
   "outputs": [],
   "source": [
    "def file_data(file):\n",
    "    '''a function that creates dict using dict comprehension from analysing a file'''\n",
    "    return {line.split(':')[0]: line.split(':')[2] for line in open(file) \n",
    "    if not line.startswith('#')}\n",
    "\n",
    "file_data('passwd.txt')\n"
   ]
  },
  {
   "cell_type": "code",
   "execution_count": null,
   "metadata": {},
   "outputs": [],
   "source": [
    "import pathlib\n",
    "\n",
    "def file_sizes(directory):\n",
    "    p = pathlib.Path(directory)\n",
    "    return {file.name: file.stat().st_size for file in p.iterdir() if file.is_file()}\n",
    "\n",
    "file_sizes('/Users/ahmedabukar/Desktop/productivity_files/python/python_exercises')"
   ]
  },
  {
   "cell_type": "code",
   "execution_count": 29,
   "metadata": {},
   "outputs": [
    {
     "data": {
      "text/plain": [
       "{'Dominican Republic',\n",
       " 'Equatorial Guinea',\n",
       " 'Mozambique',\n",
       " 'Saint Pierre and Miquelon'}"
      ]
     },
     "execution_count": 29,
     "metadata": {},
     "output_type": "execute_result"
    }
   ],
   "source": [
    "def get_sv(file):\n",
    "    \"\"\"using membership checking and set comprehension\"\"\"\n",
    "    word = {'a', 'e', 'i', 'o', 'u'}\n",
    "    return {words.rstrip() for words in open(file) if set(words) > word}\n",
    "\n",
    "get_sv('/Users/ahmedabukar/Desktop/productivity_files/python/python_exercises/archive/List of the Countries and Territories.txt')"
   ]
  },
  {
   "cell_type": "code",
   "execution_count": 34,
   "metadata": {},
   "outputs": [
    {
     "data": {
      "text/plain": [
       "{'/bin/sh', '/usr/bin/false', '/usr/sbin/uucico'}"
      ]
     },
     "execution_count": 34,
     "metadata": {},
     "output_type": "execute_result"
    }
   ],
   "source": [
    "def unique_shells(file):\n",
    "    return {shell.strip().split(':')[-1] \n",
    "    for shell in open(file) \n",
    "    if not shell.startswith('#')}\n",
    "\n",
    "unique_shells('passwd.txt')"
   ]
  },
  {
   "cell_type": "code",
   "execution_count": 44,
   "metadata": {},
   "outputs": [
    {
     "data": {
      "text/plain": [
       "{('A', 'b', 'd', 'i', 'a', 'z', 'i', 'z'),\n",
       " ('A', 'h', 'm', 'e', 'a'),\n",
       " ('I', 'b', 'r', 'a', 'h', 'i', 'm'),\n",
       " ('S', 'a', 'f', 'i', 'y', 'o'),\n",
       " ('Z', 'a', 'h', 'r', 'o')}"
      ]
     },
     "execution_count": 44,
     "metadata": {},
     "output_type": "execute_result"
    }
   ],
   "source": [
    "def unique_letter(list):\n",
    "    \"\"\"using nested set comprehension\"\"\"\n",
    "    return {tuple(letters for letters in name) for name in list}\n",
    "\n",
    "names = ['Ahmea', \"Abdiaziz\", \"Ibrahim\", \"Zahro\", \"Safiyo\"]\n",
    "\n",
    "unique_letter(names)"
   ]
  },
  {
   "cell_type": "code",
   "execution_count": null,
   "metadata": {},
   "outputs": [],
   "source": [
    "import random\n",
    "\n",
    "\n",
    "def secret_code(str):\n",
    "    return {key: random.randint(0, 27) for key in str}\n",
    "\n",
    "secret_code(\"abcdefghijklmnopqrstuvwxyz\")"
   ]
  },
  {
   "cell_type": "code",
   "execution_count": 11,
   "metadata": {},
   "outputs": [
    {
     "data": {
      "text/plain": [
       "{'a': 1,\n",
       " 'b': 2,\n",
       " 'c': 3,\n",
       " 'd': 4,\n",
       " 'e': 5,\n",
       " 'f': 6,\n",
       " 'g': 7,\n",
       " 'h': 8,\n",
       " 'i': 9,\n",
       " 'j': 10,\n",
       " 'k': 11,\n",
       " 'l': 12,\n",
       " 'm': 13,\n",
       " 'n': 14,\n",
       " 'o': 15,\n",
       " 'p': 16,\n",
       " 'q': 17,\n",
       " 'r': 18,\n",
       " 's': 19,\n",
       " 't': 20,\n",
       " 'u': 21,\n",
       " 'v': 22,\n",
       " 'w': 23,\n",
       " 'x': 24,\n",
       " 'y': 25,\n",
       " 'z': 26}"
      ]
     },
     "execution_count": 11,
     "metadata": {},
     "output_type": "execute_result"
    }
   ],
   "source": [
    "import string\n",
    "\n",
    "\n",
    "def secret_code2():\n",
    "    return {key: value for value, key in enumerate(string.ascii_lowercase, 1)}\n",
    "\n",
    "secret_code2()"
   ]
  },
  {
   "cell_type": "code",
   "execution_count": 55,
   "metadata": {},
   "outputs": [
    {
     "data": {
      "text/plain": [
       "{'a': '1', 'b': '2', 'c': '3', 'd': '/etc/passwd'}"
      ]
     },
     "execution_count": 55,
     "metadata": {},
     "output_type": "execute_result"
    }
   ],
   "source": [
    "def config_to_dict(file_name):\n",
    "    return {line.strip().split(\"=\")[0]: line.strip().split(\"=\")[1] \n",
    "    for line in open(file_name) \n",
    "    }\n",
    "\n",
    "config_to_dict('config.txt')"
   ]
  },
  {
   "cell_type": "code",
   "execution_count": 58,
   "metadata": {},
   "outputs": [
    {
     "data": {
      "text/plain": [
       "{'a': 1, 'b': 2, 'c': 3}"
      ]
     },
     "execution_count": 58,
     "metadata": {},
     "output_type": "execute_result"
    }
   ],
   "source": [
    "def config_to_dict(file_name):\n",
    "    return {line.strip().split(\"=\")[0]: int(line.strip().split(\"=\")[1]) \n",
    "    for line in open(file_name) if line.strip().split(\"=\")[1].isdigit()\n",
    "    }\n",
    "\n",
    "config_to_dict('config.txt')"
   ]
  },
  {
   "cell_type": "code",
   "execution_count": null,
   "metadata": {},
   "outputs": [],
   "source": [
    "import json\n",
    "\n",
    "\n",
    "\n",
    "def json_to_dict(file_name):\n",
    "    \"\"\"function that analysis us cities population\"\"\"\n",
    "    file_object = open(file_name)\n",
    "    return {read[\"city\"]: read[\"population\"] \n",
    "    for read in json.load(file_object)}\n",
    "\n",
    "\n",
    "json_to_dict('cities.json')"
   ]
  },
  {
   "cell_type": "code",
   "execution_count": null,
   "metadata": {},
   "outputs": [],
   "source": [
    "import json\n",
    "\n",
    "\n",
    "def json_to_dict(file_name):\n",
    "    file_object = open(file_name)\n",
    "    return {(read[\"city\"], read[\"state\"]): read[\"population\"] \n",
    "    for read in json.load(file_object)}\n",
    "\n",
    "\n",
    "json_to_dict('cities.json')"
   ]
  },
  {
   "cell_type": "code",
   "execution_count": null,
   "metadata": {},
   "outputs": [],
   "source": [
    "import string\n",
    "\n",
    "\"\"\"this exercise demonstrates that when you’re using a comprehension, and\n",
    "your output expression is a complex one, it’s often a good idea to create a separate\n",
    "function that you can repeatedly call.\"\"\"\n",
    "\n",
    "\n",
    "def secret_code2():\n",
    "    return {key: value for value, key in enumerate(string.ascii_lowercase, 1)}\n",
    "\n",
    "letters = secret_code2()\n",
    "\n",
    "\n",
    "def gematria_for(single_word):\n",
    "    return sum(letters.get(char, 0) for char in single_word)\n",
    "\n",
    "\n",
    "def germatria_equal_words(word):\n",
    "    return [word_score.strip() for word_score in open('words.txt') \n",
    "    if gematria_for(word_score.lower()) == gematria_for(word.lower()) ]\n",
    "\n",
    "\n",
    "germatria_equal_words('cat')"
   ]
  },
  {
   "cell_type": "code",
   "execution_count": 16,
   "metadata": {},
   "outputs": [
    {
     "data": {
      "text/plain": [
       "{'nairobi': 0.5555555555555556,\n",
       " 'nakuru': -6.666666666666667,\n",
       " 'Naivasha': -12.777777777777779,\n",
       " 'eldoret': 12.222222222222221}"
      ]
     },
     "execution_count": 16,
     "metadata": {},
     "output_type": "execute_result"
    }
   ],
   "source": [
    "city_temperature = {\"nairobi\": 33,\n",
    "\"nakuru\": 20,\n",
    "\"Naivasha\": 9,\n",
    "\"eldoret\": 54}\n",
    "\n",
    "def ferenheit_to_celcius(dict):\n",
    "    return {key: (value - 32) * 5/9 for key, value in dict.items()}\n",
    "\n",
    "ferenheit_to_celcius(city_temperature)"
   ]
  },
  {
   "cell_type": "code",
   "execution_count": 22,
   "metadata": {},
   "outputs": [
    {
     "data": {
      "text/plain": [
       "{'pracice python': {'Reuven': 800},\n",
       " 'Data science for python': {'Oreilly': 930},\n",
       " 'Object Oriented programming': {'Packt': 2300}}"
      ]
     },
     "execution_count": 22,
     "metadata": {},
     "output_type": "execute_result"
    }
   ],
   "source": [
    "books = [(\"Reuven Lerner\", \"pracice python\", 800), (\"Oreilly media\", \"Data science for python\", 930),\n",
    "(\"Packt publishing\", \"Object Oriented programming\", 2300)]\n",
    "\n",
    "def dict_from_Listtuple(d):\n",
    "    return {book_info[1]: {book_info[0].split()[0]: book_info[2] for key in book_info[0].split()} for book_info in d \n",
    "}\n",
    "\n",
    "dict_from_Listtuple(books)"
   ]
  },
  {
   "cell_type": "code",
   "execution_count": 7,
   "metadata": {},
   "outputs": [
    {
     "name": "stdout",
     "output_type": "stream",
     "text": [
      "{'isspace': '', 'isdigit': '', 'isalpha': 'ahmed'}\n"
     ]
    },
    {
     "data": {
      "text/plain": [
       "{'isspace': ' ', 'isdigit': '30', 'isalpha': 'ah'}"
      ]
     },
     "execution_count": 7,
     "metadata": {},
     "output_type": "execute_result"
    }
   ],
   "source": [
    "from curses.ascii import isspace\n",
    "\n",
    "\n",
    "def character_checking(str: str):\n",
    "    dict = {\n",
    "        \"isspace\": '',\n",
    "        \"isdigit\": '',\n",
    "        \"isalpha\": ''\n",
    "    }\n",
    "    \n",
    "    for syllable in str:\n",
    "        if syllable.isspace():\n",
    "            dict['isspace'] += syllable\n",
    "        elif syllable.isdigit():\n",
    "            dict['isdigit'] += syllable\n",
    "        elif syllable.isalpha():\n",
    "            dict['isalpha'] += syllable\n",
    "\n",
    "    return dict\n",
    "\n",
    "print(character_checking(\"ahmed\"))\n",
    "character_checking(\" ah30\")"
   ]
  },
  {
   "cell_type": "code",
   "execution_count": 10,
   "metadata": {},
   "outputs": [
    {
     "data": {
      "text/plain": [
       "'formaldehydesulphoxylate'"
      ]
     },
     "execution_count": 10,
     "metadata": {},
     "output_type": "execute_result"
    }
   ],
   "source": [
    "def smallest_word(file):\n",
    "    \"\"\"using max function to find the longest word in file with key argument set to len()\"\"\"\n",
    "    return max((line.strip() for line in open(file)), key=len)\n",
    "\n",
    "smallest_word('words.txt')"
   ]
  },
  {
   "cell_type": "code",
   "execution_count": 15,
   "metadata": {},
   "outputs": [
    {
     "data": {
      "text/plain": [
       "{'a': 1, 'b': 2, 'k': 11, 'c': 3}"
      ]
     },
     "execution_count": 15,
     "metadata": {},
     "output_type": "execute_result"
    }
   ],
   "source": [
    "import string\n",
    "\n",
    "def dict_keys(iterable, func):\n",
    "    \"\"\"it resembles dict.fromkeys() function\"\"\"\n",
    "    return {key: func(key) for key in iterable}\n",
    "\n",
    "def letters(str):\n",
    "    alpha = {key: value for value, key in enumerate(string.ascii_lowercase, 1)}\n",
    "    return sum(alpha[letter] for letter in str)\n",
    "\n",
    "dict_keys('abkc', letters)"
   ]
  },
  {
   "cell_type": "code",
   "execution_count": null,
   "metadata": {},
   "outputs": [],
   "source": [
    "def menu(**kwg):\n",
    "    user_choice = input().lower()\n",
    "    if user_choice in kwg.keys:\n",
    "        return kwg[user_choice]()\n",
    "    else:\n",
    "        return f\"invalid choice\"\n",
    "\n",
    "def func_a():\n",
    "    return f\"A\"\n",
    "\n",
    "def func_b():\n",
    "    return f\"B\"\n",
    "\n",
    "return_value = menu(a=func_a, b=func_b)\n",
    "\n",
    "print(return_value)"
   ]
  },
  {
   "cell_type": "code",
   "execution_count": 3,
   "metadata": {},
   "outputs": [],
   "source": [
    "def menu(**options):\n",
    "    while True:\n",
    "        option_string = '/'.join(sorted(options))\n",
    "        choice = input(\n",
    "f'Enter an option ({option_string}): ')\n",
    "        if choice in options:\n",
    "            return options[choice]()\n",
    "        print('Not a valid option')\n",
    "def func_a():\n",
    "    return \"A\"\n",
    "def func_b():\n",
    "    return \"B\"\n",
    "return_value = menu(a=func_a, b=func_b)\n",
    "print(f'Result is {return_value}')\n",
    "\n"
   ]
  },
  {
   "cell_type": "code",
   "execution_count": 13,
   "metadata": {},
   "outputs": [
    {
     "name": "stdout",
     "output_type": "stream",
     "text": [
      "chocolate\n",
      "vanilla\n",
      "permison\n"
     ]
    }
   ],
   "source": [
    "class scoop:\n",
    "    def __init__(self, flavour):\n",
    "        self.flavour = flavour\n",
    "    def __repr__(self) -> str:\n",
    "        return self.flavour\n",
    "\n",
    "def create_scoops():\n",
    "    s1 = scoop(\"chocolate\")\n",
    "    s2 = scoop(\"vanilla\")\n",
    "    s3 = scoop(\"permison\")\n",
    "    scoops= [s1, s2, s3]\n",
    "    \n",
    "    for i in scoops:\n",
    "        print(i)\n",
    "\n",
    "create_scoops()"
   ]
  },
  {
   "cell_type": "code",
   "execution_count": 15,
   "metadata": {},
   "outputs": [
    {
     "name": "stdout",
     "output_type": "stream",
     "text": [
      "cocacola 75 Tunsa 22\n"
     ]
    }
   ],
   "source": [
    "class Beverage:\n",
    "    def __init__(self, name, temperature = 75) -> None:\n",
    "        self.name = name\n",
    "        self.temperature = temperature\n",
    "    def __repr__(self) -> str:\n",
    "        return f\"{self.name} {self.temperature}\"\n",
    "\n",
    "\n",
    "b1 = Beverage(\"Tunsa\", 22)\n",
    "b2 = Beverage(\"cocacola\")\n",
    "print(b2, b1)\n"
   ]
  },
  {
   "cell_type": "code",
   "execution_count": 17,
   "metadata": {},
   "outputs": [],
   "source": [
    "class LogFile:\n",
    "    def __init__(self, file_name) -> None:\n",
    "        self.file = open(file_name, 'w')\n",
    "    def writing(self, sentence):\n",
    "        self.file.write(sentence)\n",
    "        \n",
    "\n",
    "file = LogFile(\"writing.txt\")\n",
    "file.writing(\";la;ajkaja;\")"
   ]
  },
  {
   "cell_type": "code",
   "execution_count": 1,
   "metadata": {},
   "outputs": [
    {
     "name": "stdout",
     "output_type": "stream",
     "text": [
      "chocolate\n"
     ]
    }
   ],
   "source": [
    "# composition in object oriented programming\n",
    "# where one object contains other objects\n",
    "\n",
    "class scoop:\n",
    "    def __init__(self, flavour) -> None:\n",
    "        self.flavour = flavour\n",
    "\n",
    "class Bowl:\n",
    "    def __init__(self) -> None:\n",
    "        self.scoops = []\n",
    "\n",
    "    def add_scoops(self, *new_scoop):\n",
    "        for scoop in new_scoop:\n",
    "            self.scoops.append(scoop)\n",
    "\n",
    "    def __repr__(self) -> str:\n",
    "        return \"\\n\".join(s.flavour for s in self.scoops)\n",
    "\n",
    "s1 = scoop(\"chocolate\")\n",
    "b = Bowl()\n",
    "b.add_scoops(s1)\n",
    "print(b)"
   ]
  },
  {
   "cell_type": "code",
   "execution_count": 8,
   "metadata": {},
   "outputs": [
    {
     "name": "stdout",
     "output_type": "stream",
     "text": [
      "32400\n"
     ]
    },
    {
     "data": {
      "text/plain": [
       "False"
      ]
     },
     "execution_count": 8,
     "metadata": {},
     "output_type": "execute_result"
    }
   ],
   "source": [
    "class TooMuchwidth(Exception): pass\n",
    "\n",
    "\n",
    "class Book:\n",
    "    def __init__(self, title, author, price, width) -> None:\n",
    "        self.title = title\n",
    "        self.author = author\n",
    "        self.price = price\n",
    "        self.width = width\n",
    "\n",
    "\n",
    "class Shelf:\n",
    "    def __init__(self, width) -> None:\n",
    "        self.books = []\n",
    "        self.width = width\n",
    "\n",
    "    def add_books(self, *new_book):\n",
    "        if sum(wb.width for wb in new_book) <= self.width:\n",
    "            for book in new_book:\n",
    "                self.books.append(book)\n",
    "        else:\n",
    "            raise TooMuchwidth (\"Too much for the shelf\")\n",
    "    \n",
    "    def total_price(self):\n",
    "        total_price = sum(b.price for b in self.books)\n",
    "        return total_price\n",
    "\n",
    "    def has_book(self, title_checker):\n",
    "        if title_checker in [title.title for title in self.books]:\n",
    "            return True\n",
    "        return False\n",
    "\n",
    "book1 = Book(\"OOP\", \"Ahmed\", 23400, 22)\n",
    "book2 = Book(\"Python Workout\", \"Reuven\", 9000, 12)\n",
    "shelf1 = Shelf(35)\n",
    "shelf1.add_books(book1, book2)\n",
    "print(shelf1.total_price())\n",
    "shelf1.has_book(\";la\")\n"
   ]
  },
  {
   "cell_type": "code",
   "execution_count": 2,
   "metadata": {},
   "outputs": [
    {
     "name": "stdout",
     "output_type": "stream",
     "text": [
      "chocolate\n",
      "Permison\n",
      "Orange\n"
     ]
    },
    {
     "data": {
      "text/plain": [
       "chocolate\n",
       "Permison\n",
       "Orange\n",
       "mango"
      ]
     },
     "execution_count": 2,
     "metadata": {},
     "output_type": "execute_result"
    }
   ],
   "source": [
    "from typing import List\n",
    "from dataclasses import dataclass, field\n",
    "\n",
    "\n",
    "@dataclass\n",
    "class Scoop:\n",
    "    flavour: str\n",
    "\n",
    "@dataclass\n",
    "class Bowl():\n",
    "    scoops: List[Scoop] = field(default_factory=list)\n",
    "    # class attribute\n",
    "    bowl_limit = 3\n",
    "    \n",
    "    def add_scoops(self, *new_scoops):\n",
    "        for one_scoop in new_scoops:\n",
    "            if len(self.scoops) < self.bowl_limit:\n",
    "                self.scoops.append(one_scoop)\n",
    "    \n",
    "    def __repr__(self):\n",
    "        return '\\n'.join(s.flavour for s in self.scoops)\n",
    "\n",
    "\n",
    "class BigBowl(Bowl):\n",
    "    bowl_limit = 5\n",
    "\n",
    "s1 = Scoop(\"chocolate\")\n",
    "s2 = Scoop(\"Permison\")\n",
    "s3 = Scoop(\"Orange\")\n",
    "s4 = Scoop(\"mango\")\n",
    "b = Bowl()\n",
    "b.add_scoops(s1, s2, s3, s4)\n",
    "print(b)\n",
    "b2 = BigBowl()\n",
    "b2.add_scoops(s1, s2, s3, s4)\n",
    "b2"
   ]
  },
  {
   "cell_type": "code",
   "execution_count": 72,
   "metadata": {},
   "outputs": [
    {
     "name": "stdout",
     "output_type": "stream",
     "text": [
      "2\n"
     ]
    },
    {
     "data": {
      "text/plain": [
       "2"
      ]
     },
     "execution_count": 72,
     "metadata": {},
     "output_type": "execute_result"
    }
   ],
   "source": [
    "import time\n",
    "\n",
    "class Person:\n",
    "    population = 0\n",
    "\n",
    "    def __init__(self) -> None:\n",
    "        Person.population += 1\n",
    "    \n",
    "    #def __del__(self):\n",
    "     #   Person.population -= 1\n",
    "p1 = Person()\n",
    "p2 = Person()\n",
    "p3 = Person()\n",
    "p4 = Person()\n",
    "p4 = Person()\n",
    "time.sleep(3)\n",
    "print(p4.population)\n",
    "\n",
    "time.sleep(3)\n",
    "del p2\n",
    "Person.population"
   ]
  },
  {
   "cell_type": "code",
   "execution_count": 83,
   "metadata": {},
   "outputs": [
    {
     "data": {
      "text/plain": [
       "11000"
      ]
     },
     "execution_count": 83,
     "metadata": {},
     "output_type": "execute_result"
    }
   ],
   "source": [
    "class Transaction():\n",
    "    current_balance = 0\n",
    "\n",
    "    def __init__(self, amount) -> None:\n",
    "        if amount < 0:\n",
    "            Transaction.current_balance -= amount\n",
    "\n",
    "        else:\n",
    "            Transaction.current_balance += amount\n",
    "\n",
    "acount = Transaction(10000)\n",
    "acount.current_balance\n",
    "acount1 = Transaction(-1000)\n",
    "acount1.current_balance"
   ]
  },
  {
   "cell_type": "code",
   "execution_count": 2,
   "metadata": {},
   "outputs": [
    {
     "data": {
      "text/plain": [
       "True"
      ]
     },
     "execution_count": 2,
     "metadata": {},
     "output_type": "execute_result"
    }
   ],
   "source": [
    "class Envelope():\n",
    "    postage_no = 10\n",
    "\n",
    "    def __init__(self, weight) -> None:\n",
    "        self.was_sent = False\n",
    "        self.weight = weight\n",
    "        self.postage_content = []\n",
    "        self.total_postage = 0\n",
    "    \n",
    "    def postage_needed(self):\n",
    "        total_postage += (self.weight * self.postage_no)\n",
    "        return total_postage\n",
    "    \n",
    "    def add_postage(self, *envelopes):\n",
    "        for envelope in envelopes:\n",
    "            if len(self.postage_content) > self.total_postage:\n",
    "                self.postage_content.append(envelope)\n",
    "        return self.postage_content\n",
    "    \n",
    "    def send(self):\n",
    "        if self.total_postage == len(self.postage_content):\n",
    "            self.was_sent = True\n",
    "        return self.was_sent\n",
    "\n",
    "class BigEnvelope(Envelope):\n",
    "    postage_no = 15\n",
    "\n",
    "\n",
    "env1 = Envelope(1)\n",
    "env1.add_postage(\"Ah;a\", \"la;a;\", \"ja;\", 'al;a;')\n",
    "env1.send()\n"
   ]
  },
  {
   "cell_type": "code",
   "execution_count": 4,
   "metadata": {},
   "outputs": [
    {
     "data": {
      "text/plain": [
       "'[even] 0; [odd] 1; [even] 2'"
      ]
     },
     "execution_count": 4,
     "metadata": {},
     "output_type": "execute_result"
    }
   ],
   "source": [
    "from collections import UserList\n",
    "\n",
    "class GoodList(UserList):\n",
    "    def __getitem__(self, index):\n",
    "        value = super().__getitem__(index)\n",
    "        if index % 2 == 0:\n",
    "            prefix = \"even\"\n",
    "        else:\n",
    "            prefix = \"odd\"\n",
    "        return f'[{prefix}] {value}'\n",
    "\n",
    "\n",
    "g1 = GoodList((0, 1, 2))\n",
    "g1[0]\n",
    "\"; \".join(g1)"
   ]
  },
  {
   "cell_type": "code",
   "execution_count": 7,
   "metadata": {},
   "outputs": [
    {
     "name": "stdout",
     "output_type": "stream",
     "text": [
      "100\n"
     ]
    },
    {
     "data": {
      "text/plain": [
       "{'a': 100, 4: 400, '4': 40}"
      ]
     },
     "execution_count": 7,
     "metadata": {},
     "output_type": "execute_result"
    }
   ],
   "source": [
    "class FlexibleDict(dict):\n",
    "    def __getitem__(self, key):\n",
    "        return super().__getitem__(key)\n",
    "        try:\n",
    "            if key in self:\n",
    "                pass\n",
    "            elif str(key) in self:\n",
    "                key = str(key)\n",
    "            elif int(key) in self:\n",
    "                key = int(key)\n",
    "        except ValueError as e:\n",
    "            pass\n",
    "        return dict.__getitem__(self, key)\n",
    "fd = FlexibleDict()\n",
    "fd[\"a\"] = 100\n",
    "print(fd['a'])\n",
    "fd[4] = 400\n",
    "fd['4'] = 40\n",
    "fd"
   ]
  }
 ],
 "metadata": {
  "kernelspec": {
   "display_name": "Python 3.10.6 64-bit",
   "language": "python",
   "name": "python3"
  },
  "language_info": {
   "codemirror_mode": {
    "name": "ipython",
    "version": 3
   },
   "file_extension": ".py",
   "mimetype": "text/x-python",
   "name": "python",
   "nbconvert_exporter": "python",
   "pygments_lexer": "ipython3",
   "version": "3.10.6"
  },
  "vscode": {
   "interpreter": {
    "hash": "aee8b7b246df8f9039afb4144a1f6fd8d2ca17a180786b69acc140d282b71a49"
   }
  }
 },
 "nbformat": 4,
 "nbformat_minor": 2
}
